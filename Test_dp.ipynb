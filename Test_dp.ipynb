{
  "nbformat": 4,
  "nbformat_minor": 0,
  "metadata": {
    "colab": {
      "name": "Test_dp.ipynb",
      "provenance": []
    },
    "kernelspec": {
      "name": "python3",
      "display_name": "Python 3"
    },
    "accelerator": "GPU"
  },
  "cells": [
    {
      "cell_type": "code",
      "metadata": {
        "id": "kEPY-s8Mvlbg",
        "colab_type": "code",
        "colab": {}
      },
      "source": [
        "from fastai.vision import * "
      ],
      "execution_count": 0,
      "outputs": []
    },
    {
      "cell_type": "code",
      "metadata": {
        "id": "x7fOP38QwQXe",
        "colab_type": "code",
        "outputId": "395baa1d-9966-4f81-b24e-f812059160f9",
        "colab": {
          "base_uri": "https://localhost:8080/",
          "height": 36
        }
      },
      "source": [
        "path = untar_data(URLs.MNIST)\n",
        "path"
      ],
      "execution_count": 27,
      "outputs": [
        {
          "output_type": "execute_result",
          "data": {
            "text/plain": [
              "PosixPath('/root/.fastai/data/mnist_png')"
            ]
          },
          "metadata": {
            "tags": []
          },
          "execution_count": 27
        }
      ]
    },
    {
      "cell_type": "code",
      "metadata": {
        "id": "bhSBngRVwUIq",
        "colab_type": "code",
        "colab": {}
      },
      "source": [
        "tfms = get_transforms(do_flip=False)\n",
        "data = (ImageList\n",
        "        .from_folder(path/\"training\")\n",
        "        .split_by_rand_pct()\n",
        "        .label_from_folder()\n",
        "        .transform(tfms=tfms)\n",
        "        .databunch())\n",
        "\n",
        "def get_one_channel(batch):\n",
        "  x,y = batch\n",
        "  return x[:,0,:,:].unsqueeze(1),y\n",
        "\n",
        "data.add_tfm(get_one_channel)"
      ],
      "execution_count": 0,
      "outputs": []
    },
    {
      "cell_type": "code",
      "metadata": {
        "id": "38cDuQmG_9Kg",
        "colab_type": "code",
        "colab": {}
      },
      "source": [
        "def conv2(ni,nf): return conv_layer(ni,nf,stride=2)\n",
        "\n",
        "class ResBlock(nn.Module):\n",
        "    def __init__(self, nf):\n",
        "        super().__init__()\n",
        "        self.conv1 = conv_layer(nf,nf)\n",
        "        self.conv2 = conv_layer(nf,nf)\n",
        "        \n",
        "    def forward(self, x): return x + self.conv2(self.conv1(x))"
      ],
      "execution_count": 0,
      "outputs": []
    },
    {
      "cell_type": "code",
      "metadata": {
        "id": "sAVTJmWrBlHA",
        "colab_type": "code",
        "colab": {}
      },
      "source": [
        "def create_model(nfs,dp=None,**args):\n",
        "  layers = []\n",
        "  for i,o in nfs:\n",
        "    conv = conv2(i,o)\n",
        "    res = res_block(o)\n",
        "    layers.append(conv)\n",
        "    layers.append(res)\n",
        "    if dp:\n",
        "      d = dp(**args)\n",
        "      layers.append(d)\n",
        "  layers.append(Flatten())\n",
        "  layers = nn.Sequential(*layers)\n",
        "  return layers"
      ],
      "execution_count": 0,
      "outputs": []
    },
    {
      "cell_type": "code",
      "metadata": {
        "id": "pwkihMrtwnMs",
        "colab_type": "code",
        "colab": {}
      },
      "source": [
        "nfs = [\n",
        "    (1,8),\n",
        "    (8,16),\n",
        "    (16,32),\n",
        "    (32,16),\n",
        "    (16,10)\n",
        "]\n",
        "\n",
        "# dp = partial(nn.Dropout,inplace=True)\n",
        "dp = None\n",
        "\n",
        "model = create_model(nfs,dp,p=0.2)"
      ],
      "execution_count": 0,
      "outputs": []
    },
    {
      "cell_type": "code",
      "metadata": {
        "id": "_G_RRlpXwno5",
        "colab_type": "code",
        "colab": {}
      },
      "source": [
        "learn = Learner(data, model, loss_func = nn.CrossEntropyLoss(), metrics=accuracy)"
      ],
      "execution_count": 0,
      "outputs": []
    },
    {
      "cell_type": "code",
      "metadata": {
        "id": "XzdUQkbMwssL",
        "colab_type": "code",
        "colab": {
          "base_uri": "https://localhost:8080/",
          "height": 302
        },
        "outputId": "f0783f78-776f-4763-e207-2736f7db933d"
      },
      "source": [
        "learn.lr_find(end_lr=100)\n",
        "learn.recorder.plot()"
      ],
      "execution_count": 56,
      "outputs": [
        {
          "output_type": "display_data",
          "data": {
            "text/html": [
              ""
            ],
            "text/plain": [
              "<IPython.core.display.HTML object>"
            ]
          },
          "metadata": {
            "tags": []
          }
        },
        {
          "output_type": "stream",
          "text": [
            "LR Finder is complete, type {learner_name}.recorder.plot() to see the graph.\n"
          ],
          "name": "stdout"
        },
        {
          "output_type": "display_data",
          "data": {
            "image/png": "[encoded data removed]",
            "text/plain": [
              "<Figure size 432x288 with 1 Axes>"
            ]
          },
          "metadata": {
            "tags": []
          }
        }
      ]
    },
    {
      "cell_type": "code",
      "metadata": {
        "id": "sNIRE_3Y_XWV",
        "colab_type": "code",
        "outputId": "b66dba5f-9c50-45fe-ad0a-1f970cfdcf98",
        "colab": {
          "base_uri": "https://localhost:8080/",
          "height": 221
        }
      },
      "source": [
        "learn.fit_one_cycle(10, max_lr=0.05)"
      ],
      "execution_count": 0,
      "outputs": [
        {
          "output_type": "display_data",
          "data": {
            "text/html": [
              "\n",
              "    <div>\n",
              "        <style>\n",
              "            /* Turns off some styling */\n",
              "            progress {\n",
              "                /* gets rid of default border in Firefox and Opera. */\n",
              "                border: none;\n",
              "                /* Needs to be in here for Safari polyfill so background images work as expected. */\n",
              "                background-size: auto;\n",
              "            }\n",
              "            .progress-bar-interrupted, .progress-bar-interrupted::-webkit-progress-bar {\n",
              "                background: #F44336;\n",
              "            }\n",
              "        </style>\n",
              "      <progress value='4' class='' max='10', style='width:300px; height:20px; vertical-align: middle;'></progress>\n",
              "      40.00% [4/10 05:37<08:25]\n",
              "    </div>\n",
              "    \n",
              "<table border=\"1\" class=\"dataframe\">\n",
              "  <thead>\n",
              "    <tr style=\"text-align: left;\">\n",
              "      <th>epoch</th>\n",
              "      <th>train_loss</th>\n",
              "      <th>valid_loss</th>\n",
              "      <th>accuracy</th>\n",
              "      <th>time</th>\n",
              "    </tr>\n",
              "  </thead>\n",
              "  <tbody>\n",
              "    <tr>\n",
              "      <td>0</td>\n",
              "      <td>0.236746</td>\n",
              "      <td>0.171367</td>\n",
              "      <td>0.943083</td>\n",
              "      <td>01:24</td>\n",
              "    </tr>\n",
              "    <tr>\n",
              "      <td>1</td>\n",
              "      <td>0.165626</td>\n",
              "      <td>0.241431</td>\n",
              "      <td>0.932417</td>\n",
              "      <td>01:25</td>\n",
              "    </tr>\n",
              "    <tr>\n",
              "      <td>2</td>\n",
              "      <td>0.116794</td>\n",
              "      <td>0.097266</td>\n",
              "      <td>0.970750</td>\n",
              "      <td>01:23</td>\n",
              "    </tr>\n",
              "    <tr>\n",
              "      <td>3</td>\n",
              "      <td>0.102358</td>\n",
              "      <td>0.081387</td>\n",
              "      <td>0.976000</td>\n",
              "      <td>01:24</td>\n",
              "    </tr>\n",
              "  </tbody>\n",
              "</table><p>\n",
              "\n",
              "    <div>\n",
              "        <style>\n",
              "            /* Turns off some styling */\n",
              "            progress {\n",
              "                /* gets rid of default border in Firefox and Opera. */\n",
              "                border: none;\n",
              "                /* Needs to be in here for Safari polyfill so background images work as expected. */\n",
              "                background-size: auto;\n",
              "            }\n",
              "            .progress-bar-interrupted, .progress-bar-interrupted::-webkit-progress-bar {\n",
              "                background: #F44336;\n",
              "            }\n",
              "        </style>\n",
              "      <progress value='465' class='' max='750', style='width:300px; height:20px; vertical-align: middle;'></progress>\n",
              "      62.00% [465/750 00:48<00:29 0.0987]\n",
              "    </div>\n",
              "    "
            ],
            "text/plain": [
              "<IPython.core.display.HTML object>"
            ]
          },
          "metadata": {
            "tags": []
          }
        }
      ]
    },
    {
      "cell_type": "code",
      "metadata": {
        "id": "IgnJhbm_DdBE",
        "colab_type": "code",
        "colab": {}
      },
      "source": [
        ""
      ],
      "execution_count": 0,
      "outputs": []
    }
  ]
}