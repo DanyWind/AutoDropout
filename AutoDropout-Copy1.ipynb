{
 "cells": [
  {
   "cell_type": "markdown",
   "metadata": {
    "colab_type": "text",
    "id": "view-in-github"
   },
   "source": [
    "<a href=\"https://colab.research.google.com/github/DanyWind/variationnal_dropout/blob/master/AutoDropout.ipynb\" target=\"_parent\"><img src=\"https://colab.research.google.com/assets/colab-badge.svg\" alt=\"Open In Colab\"/></a>"
   ]
  },
  {
   "cell_type": "markdown",
   "metadata": {
    "colab_type": "text",
    "id": "bZe-Sv0vEZDI"
   },
   "source": [
    "# AutoDropout implementation "
   ]
  },
  {
   "cell_type": "code",
   "execution_count": 47,
   "metadata": {},
   "outputs": [],
   "source": [
    "\n",
    "import torch\n",
    "import torch.nn as nn\n",
    "from torch.distributions import Bernoulli\n",
    "\n",
    "inverse_sigmoid = lambda p: torch.log(p/(1-p))\n",
    "\n",
    "class PLU(nn.Module):\n",
    "    \"\"\"Probability Linear Unit\"\"\"\n",
    "\n",
    "    def __init__(self):\n",
    "        super(PLU, self).__init__()\n",
    "\n",
    "    def forward(self, x):\n",
    "        z = torch.clamp(x, 0, 1)\n",
    "        return z\n",
    "\n",
    "\n",
    "class CustomDropout(nn.Module):\n",
    "    \"\"\"Custom Dropout module to be used as a baseline for MC Dropout\"\"\"\n",
    "\n",
    "    def __init__(self, p, activate=True):\n",
    "        super().__init__()\n",
    "        self.activate = activate\n",
    "        self.p = p\n",
    "\n",
    "    def forward(self, x):\n",
    "        return nn.functional.dropout(x, self.p, training=self.activate)\n",
    "\n",
    "\n",
    "class AutoDropout(nn.Module):\n",
    "    def __init__(self, dp=0., requires_grad=False):\n",
    "\n",
    "        super(AutoDropout, self).__init__()\n",
    "\n",
    "        # We transform the dropout rate to keep rate\n",
    "        p = 1 - dp\n",
    "        p = torch.tensor(p)\n",
    "        \n",
    "        gamma = inverse_sigmoid(p)\n",
    "\n",
    "        if requires_grad:\n",
    "            gamma = nn.Parameter(gamma)\n",
    "            self.register_parameter(\"gamma\", gamma)\n",
    "        else:\n",
    "            self.register_buffer(\"gamma\", gamma)\n",
    "\n",
    "    def forward(self, x):\n",
    "        bs, shape = x.shape[0], x.shape[1:]\n",
    "\n",
    "        # We make sure p is a probability\n",
    "        p = torch.sigmoid(self.gamma)\n",
    "\n",
    "        ps = p.expand(shape)\n",
    "\n",
    "        m = Bernoulli(ps).sample((1,)).squeeze(0)\n",
    "\n",
    "        m  = ps + (m - ps).detach()\n",
    "        \n",
    "        # Element wise multiplication\n",
    "        z = x * m\n",
    "\n",
    "        return z\n",
    "\n",
    "    def extra_repr(self):\n",
    "        return 'p={}'.format(torch.sigmoid(self.gamma))\n",
    "\n",
    "\n",
    "class DropLinear(nn.Module):\n",
    "    def __init__(self, in_features, out_features, dp=0., bias=True, requires_grad=False):\n",
    "        super(DropLinear, self).__init__()\n",
    "\n",
    "        self.dp = AutoDropout(dp=dp, requires_grad=requires_grad)\n",
    "        self.W = nn.Linear(in_features=in_features,\n",
    "                           out_features=out_features, bias=bias)\n",
    "        self.W.weight.data = self.W.weight.data / self.W.weight.data.norm() * (1-dp)\n",
    "\n",
    "    def forward(self, x):\n",
    "        z = self.W(x)\n",
    "        z = self.dp(z)\n",
    "        return z\n"
   ]
  },
  {
   "cell_type": "code",
   "execution_count": 79,
   "metadata": {},
   "outputs": [],
   "source": [
    "\n",
    "from fastai.callbacks.hooks import HookCallback\n",
    "from fastai.torch_core import to_np\n",
    "\n",
    "import pandas as pd\n",
    "import torch\n",
    "import torch.nn as nn\n",
    "import matplotlib.pyplot as plt\n",
    "\n",
    "\n",
    "def norm2(x): return (x**2).sum()\n",
    "\n",
    "\n",
    "def neg_entropy(p): return p * torch.log(p) + (1-p) * torch.log(1-p)\n",
    "\n",
    "\n",
    "def get_layer(m, buffer, layer):\n",
    "    \"\"\"Function which takes a list and a model append the elements\"\"\"\n",
    "    for c in m.children():\n",
    "        if isinstance(c, layer):\n",
    "            if isinstance(buffer, list):\n",
    "                buffer.append(c)\n",
    "            elif isinstance(buffer, dict):\n",
    "                i = hex(id(c))\n",
    "                buffer[i] = c\n",
    "        get_layer(c, buffer, layer)\n",
    "\n",
    "\n",
    "class CustomActivationStats(HookCallback):\n",
    "    def __init__(self, learn, layer_type, do_remove: bool = True):\n",
    "        super().__init__(learn)\n",
    "\n",
    "        buffer = []\n",
    "        get_layer(learn.model, buffer, layer_type)\n",
    "        if not buffer:\n",
    "            raise NotImplementedError(f\"No {layer_type} Linear found\")\n",
    "\n",
    "        self.modules = buffer\n",
    "        self.do_remove = do_remove\n",
    "\n",
    "        self.stats = []\n",
    "\n",
    "    def hook(self, m, i, o):\n",
    "        mean = o.mean().item()\n",
    "        std = o.std().item()\n",
    "        z = to_np(o.mean(dim=0))\n",
    "\n",
    "        i = hex(id(m))\n",
    "        self.stats.append({\"m\": mean, \"s\": std, \"z\": z, \"module\": i})\n",
    "\n",
    "    @property\n",
    "    def df(self): return pd.DataFrame(self.stats)\n",
    "\n",
    "\n",
    "class KLHook(HookCallback):\n",
    "    \"\"\"Hook to register the parameters of the latents during the forward pass to compute the KL term of the VAE\"\"\"\n",
    "\n",
    "    def __init__(self, learn, do_remove: bool = True, recording=False,beta=1):\n",
    "        super().__init__(learn)\n",
    "\n",
    "        # First we store all the DropLinears layers to hook them\n",
    "        buffer = []\n",
    "        get_layer(learn.model, buffer, DropLinear)\n",
    "        if not buffer:\n",
    "            raise NotImplementedError(f\"No {DropLinear} Linear found\")\n",
    "\n",
    "        self.modules = buffer\n",
    "        self.do_remove = do_remove\n",
    "\n",
    "        # We will store the KL of each DropLinear here before summing them\n",
    "        self.kls = []\n",
    "\n",
    "        self.recording = recording\n",
    "\n",
    "        if recording:\n",
    "            self.stats = []\n",
    "            self.loss = []\n",
    "        \n",
    "        self.beta = beta\n",
    "        \n",
    "    def on_backward_begin(self, last_loss, **kwargs):\n",
    "        total_kl = 0\n",
    "        for kl in self.kls:\n",
    "            total_kl += kl\n",
    "            \n",
    "        total_loss = last_loss + total_kl\n",
    "\n",
    "        if self.recording:\n",
    "            self.loss.append({\"total_kl\": total_kl.item(), \"last_loss\": last_loss.item(),\n",
    "                              \"total_loss\": total_loss.item()})\n",
    "\n",
    "        # We empty the buffer of kls\n",
    "        self.kls = []\n",
    "\n",
    "        return {\"last_loss\": total_loss}\n",
    "\n",
    "    def hook(self, m: nn.Module, i, o):\n",
    "        \"Save the latents of the bottleneck\"\n",
    "        bs = o.shape[0]\n",
    "\n",
    "        p = torch.sigmoid(m.dp.gamma)\n",
    "\n",
    "        ne = neg_entropy(p)\n",
    "\n",
    "        W = m.W.weight\n",
    "        norm_w = norm2(W)\n",
    "\n",
    "        b = m.W.bias\n",
    "        norm_b = norm2(b)\n",
    "\n",
    "        kl = (p * norm_w + ne + norm_b) * self.beta\n",
    "\n",
    "        self.kls.append(kl)\n",
    "\n",
    "        if self.recording:\n",
    "            i = hex(id(m))\n",
    "            self.stats.append(\n",
    "                {\"dropout\": 1 - p.item(), \"w\": norm_w.item(), \"ne\": ne.item(), \"module\": i})\n",
    "\n",
    "    @property\n",
    "    def df_stats(self): return pd.DataFrame(self.stats)\n",
    "\n",
    "    @property\n",
    "    def df_loss(self): return pd.DataFrame(self.loss)\n",
    "\n",
    "    def plot_stats(self, module=None):\n",
    "        assert self.recording, \"Recording mode was off during initialization\"\n",
    "        df = self.df_stats\n",
    "        if module:\n",
    "            df = df.loc[df.module == module]\n",
    "\n",
    "        fig, ax = plt.subplots(3, 1, figsize=(16, 12))\n",
    "\n",
    "        ax[0].plot(df.w.values)\n",
    "        ax[0].set_title(\"Weight norm\")\n",
    "\n",
    "        ax[1].plot(df.dropout.values)\n",
    "        ax[1].set_title(\"Dropout rate\")\n",
    "\n",
    "        ax[2].plot(df[\"ne\"].values)\n",
    "        ax[2].set_title(\"Negative entropy\")\n",
    "\n",
    "    def plot_losses(self):\n",
    "        assert self.recording, \"Recording mode was off during initialization\"\n",
    "        df = self.df_loss\n",
    "        df.plot()\n"
   ]
  },
  {
   "cell_type": "markdown",
   "metadata": {
    "colab_type": "text",
    "id": "VUQ2cA9F92vA"
   },
   "source": [
    "## Rossmann stores"
   ]
  },
  {
   "cell_type": "code",
   "execution_count": 1,
   "metadata": {
    "colab": {
     "base_uri": "https://localhost:8080/",
     "height": 130
    },
    "colab_type": "code",
    "id": "x8aRSV5a9-Ht",
    "outputId": "d7b19e50-862a-4ba2-d98c-e82978c8bda6"
   },
   "outputs": [],
   "source": [
    "from fastai.tabular import *"
   ]
  },
  {
   "cell_type": "code",
   "execution_count": 2,
   "metadata": {
    "colab": {},
    "colab_type": "code",
    "id": "3NDCfzWp95tt"
   },
   "outputs": [],
   "source": [
    "path = Path()"
   ]
  },
  {
   "cell_type": "code",
   "execution_count": 3,
   "metadata": {
    "colab": {},
    "colab_type": "code",
    "id": "MQOm9Wc0MVjA"
   },
   "outputs": [],
   "source": [
    "train_df = pd.read_pickle(path/'train_clean')\n",
    "test_df = pd.read_pickle(path/'test_clean')"
   ]
  },
  {
   "cell_type": "code",
   "execution_count": 4,
   "metadata": {
    "colab": {},
    "colab_type": "code",
    "id": "2zsI1Dw4MewB"
   },
   "outputs": [],
   "source": [
    "procs=[FillMissing, Categorify, Normalize]\n",
    "\n",
    "cat_vars = ['Store', 'DayOfWeek', 'Year', 'Month', 'Day', 'StateHoliday', 'CompetitionMonthsOpen',\n",
    "    'Promo2Weeks', 'StoreType', 'Assortment', 'PromoInterval', 'CompetitionOpenSinceYear', 'Promo2SinceYear',\n",
    "    'State', 'Week', 'Events', 'Promo_fw', 'Promo_bw', 'StateHoliday_fw', 'StateHoliday_bw',\n",
    "    'SchoolHoliday_fw', 'SchoolHoliday_bw']\n",
    "\n",
    "cont_vars = ['CompetitionDistance', 'Max_TemperatureC', 'Mean_TemperatureC', 'Min_TemperatureC',\n",
    "   'Max_Humidity', 'Mean_Humidity', 'Min_Humidity', 'Max_Wind_SpeedKm_h', \n",
    "   'Mean_Wind_SpeedKm_h', 'CloudCover', 'trend', 'trend_DE',\n",
    "   'AfterStateHoliday', 'BeforeStateHoliday', 'Promo', 'SchoolHoliday']"
   ]
  },
  {
   "cell_type": "code",
   "execution_count": 5,
   "metadata": {
    "colab": {},
    "colab_type": "code",
    "id": "CIXTqyA_Mgim"
   },
   "outputs": [],
   "source": [
    "dep_var = 'Sales'\n",
    "df = train_df[cat_vars + cont_vars + [dep_var,'Date']].copy()"
   ]
  },
  {
   "cell_type": "code",
   "execution_count": 6,
   "metadata": {
    "colab": {},
    "colab_type": "code",
    "id": "M2_uCl1vMo0W"
   },
   "outputs": [],
   "source": [
    "cut = train_df['Date'][(train_df['Date'] == train_df['Date'][len(test_df)])].index.max()\n",
    "valid_idx = range(cut)"
   ]
  },
  {
   "cell_type": "code",
   "execution_count": 7,
   "metadata": {
    "colab": {},
    "colab_type": "code",
    "id": "9yDCY9u7Mibf"
   },
   "outputs": [],
   "source": [
    "data = (TabularList.from_df(df, path=path, cat_names=cat_vars, cont_names=cont_vars, procs=procs,)\n",
    "                .split_by_idx(valid_idx)\n",
    "                .label_from_df(cols=dep_var, label_cls=FloatList, log=True)\n",
    "                .add_test(TabularList.from_df(test_df, path=path, cat_names=cat_vars, cont_names=cont_vars))\n",
    "                .databunch())"
   ]
  },
  {
   "cell_type": "code",
   "execution_count": 8,
   "metadata": {
    "colab": {},
    "colab_type": "code",
    "id": "g0UKM87iMltM"
   },
   "outputs": [],
   "source": [
    "max_log_y = np.log(np.max(train_df['Sales'])*1.2)\n",
    "y_range = torch.tensor([0, max_log_y], device=defaults.device)"
   ]
  },
  {
   "cell_type": "code",
   "execution_count": 9,
   "metadata": {
    "colab": {},
    "colab_type": "code",
    "id": "vWraTw19Mtys"
   },
   "outputs": [],
   "source": [
    "learn = tabular_learner(data, layers=[1000,500], ps=[0.001,0.01], emb_drop=0.04, \n",
    "                        y_range=y_range, metrics=exp_rmspe)"
   ]
  },
  {
   "cell_type": "code",
   "execution_count": 10,
   "metadata": {
    "colab": {},
    "colab_type": "code",
    "id": "4bAJc6hF-OqN"
   },
   "outputs": [],
   "source": [
    "def convert_layers(model,original,replacement,get_args=None,additional_args=None,final_layer_id=None):\n",
    "    for child_name, child in model.named_children():\n",
    "        i = hex(id(child))\n",
    "        if isinstance(child, original) and i != final_layer_id:\n",
    "            if get_args: \n",
    "                original_args = get_args(child)\n",
    "            else:\n",
    "                original_args = {}\n",
    "            \n",
    "            # If we want to provide additional args\n",
    "            if additional_args: \n",
    "                args = {**original_args,**additional_args}\n",
    "            else:\n",
    "                args = original_args\n",
    "            \n",
    "            old_layer = getattr(model,child_name)\n",
    "            new_layer = replacement(**args)\n",
    "            \n",
    "            setattr(model, child_name, new_layer)\n",
    "        else:\n",
    "            convert_layers(child,original,replacement,get_args,additional_args,final_layer_id)\n",
    "\n",
    "def remove_layers(model,m_to_del):\n",
    "    to_del = []\n",
    "    for k,c in model._modules.items():\n",
    "        if isinstance(c,m_to_del):\n",
    "            to_del.append(k)\n",
    "    for k in to_del:\n",
    "        del model._modules[k]\n"
   ]
  },
  {
   "cell_type": "code",
   "execution_count": 124,
   "metadata": {
    "colab": {},
    "colab_type": "code",
    "id": "5N15s-1CDoDG"
   },
   "outputs": [],
   "source": [
    "learn = tabular_learner(data, layers=[1000,500], ps=[0.05,0.05], emb_drop=0.04, \n",
    "                        y_range=y_range, metrics=exp_rmspe)\n"
   ]
  },
  {
   "cell_type": "code",
   "execution_count": 125,
   "metadata": {
    "colab": {},
    "colab_type": "code",
    "id": "IBDtLJrDGdZB"
   },
   "outputs": [],
   "source": [
    "final_layer_id = hex(id(learn.model.layers[-1]))"
   ]
  },
  {
   "cell_type": "code",
   "execution_count": 126,
   "metadata": {},
   "outputs": [],
   "source": [
    "from autodropout import CustomDropout"
   ]
  },
  {
   "cell_type": "code",
   "execution_count": 127,
   "metadata": {
    "colab": {},
    "colab_type": "code",
    "id": "iFJqH3eGGiwL"
   },
   "outputs": [],
   "source": [
    "get_args = lambda drop : {\"p\":drop.p}\n",
    "additional_args = {}\n",
    "\n",
    "convert_lin_to_droplin = partial(convert_layers,original = nn.Dropout,replacement = CustomDropout,\n",
    "                                 get_args=get_args,additional_args=additional_args)"
   ]
  },
  {
   "cell_type": "code",
   "execution_count": 128,
   "metadata": {
    "colab": {
     "base_uri": "https://localhost:8080/",
     "height": 73
    },
    "colab_type": "code",
    "id": "CfeAlLmrE1HV",
    "outputId": "4ea0cf20-1d4c-4b90-9b13-cade48ee0ed2"
   },
   "outputs": [],
   "source": [
    "convert_lin_to_droplin(learn.model)"
   ]
  },
  {
   "cell_type": "code",
   "execution_count": 129,
   "metadata": {},
   "outputs": [
    {
     "data": {
      "text/plain": [
       "TabularModel(\n",
       "  (embeds): ModuleList(\n",
       "    (0): Embedding(1116, 81)\n",
       "    (1): Embedding(8, 5)\n",
       "    (2): Embedding(4, 3)\n",
       "    (3): Embedding(13, 7)\n",
       "    (4): Embedding(32, 11)\n",
       "    (5): Embedding(3, 3)\n",
       "    (6): Embedding(26, 10)\n",
       "    (7): Embedding(27, 10)\n",
       "    (8): Embedding(5, 4)\n",
       "    (9): Embedding(4, 3)\n",
       "    (10): Embedding(4, 3)\n",
       "    (11): Embedding(24, 9)\n",
       "    (12): Embedding(9, 5)\n",
       "    (13): Embedding(13, 7)\n",
       "    (14): Embedding(53, 15)\n",
       "    (15): Embedding(22, 9)\n",
       "    (16): Embedding(7, 5)\n",
       "    (17): Embedding(7, 5)\n",
       "    (18): Embedding(4, 3)\n",
       "    (19): Embedding(4, 3)\n",
       "    (20): Embedding(9, 5)\n",
       "    (21): Embedding(9, 5)\n",
       "    (22): Embedding(3, 3)\n",
       "    (23): Embedding(3, 3)\n",
       "  )\n",
       "  (emb_drop): CustomDropout(p=0.04)\n",
       "  (bn_cont): BatchNorm1d(16, eps=1e-05, momentum=0.1, affine=True, track_running_stats=True)\n",
       "  (layers): Sequential(\n",
       "    (0): Linear(in_features=233, out_features=1000, bias=True)\n",
       "    (1): ReLU(inplace=True)\n",
       "    (2): BatchNorm1d(1000, eps=1e-05, momentum=0.1, affine=True, track_running_stats=True)\n",
       "    (3): CustomDropout(p=0.05)\n",
       "    (4): Linear(in_features=1000, out_features=500, bias=True)\n",
       "    (5): ReLU(inplace=True)\n",
       "    (6): BatchNorm1d(500, eps=1e-05, momentum=0.1, affine=True, track_running_stats=True)\n",
       "    (7): CustomDropout(p=0.05)\n",
       "    (8): Linear(in_features=500, out_features=1, bias=True)\n",
       "  )\n",
       ")"
      ]
     },
     "execution_count": 129,
     "metadata": {},
     "output_type": "execute_result"
    }
   ],
   "source": [
    "learn.model"
   ]
  },
  {
   "cell_type": "code",
   "execution_count": 30,
   "metadata": {
    "colab": {
     "base_uri": "https://localhost:8080/",
     "height": 298
    },
    "colab_type": "code",
    "id": "NLc1G3cNGutI",
    "outputId": "f7f484a5-3ade-4ba4-9357-a4187213c992"
   },
   "outputs": [
    {
     "data": {
      "text/html": [],
      "text/plain": [
       "<IPython.core.display.HTML object>"
      ]
     },
     "metadata": {},
     "output_type": "display_data"
    },
    {
     "name": "stdout",
     "output_type": "stream",
     "text": [
      "LR Finder is complete, type {learner_name}.recorder.plot() to see the graph.\n"
     ]
    },
    {
     "data": {
      "image/png": "[encoded data removed]",
      "text/plain": [
       "<Figure size 432x288 with 1 Axes>"
      ]
     },
     "metadata": {
      "needs_background": "light"
     },
     "output_type": "display_data"
    }
   ],
   "source": [
    "learn.lr_find()\n",
    "learn.recorder.plot()"
   ]
  },
  {
   "cell_type": "code",
   "execution_count": 32,
   "metadata": {},
   "outputs": [],
   "source": [
    "from callbacks import CustomActivationStats"
   ]
  },
  {
   "cell_type": "code",
   "execution_count": 130,
   "metadata": {},
   "outputs": [
    {
     "data": {
      "text/html": [
       "<table border=\"1\" class=\"dataframe\">\n",
       "  <thead>\n",
       "    <tr style=\"text-align: left;\">\n",
       "      <th>epoch</th>\n",
       "      <th>train_loss</th>\n",
       "      <th>valid_loss</th>\n",
       "      <th>exp_rmspe</th>\n",
       "      <th>time</th>\n",
       "    </tr>\n",
       "  </thead>\n",
       "  <tbody>\n",
       "    <tr>\n",
       "      <td>0</td>\n",
       "      <td>0.043661</td>\n",
       "      <td>0.037635</td>\n",
       "      <td>0.193209</td>\n",
       "      <td>00:28</td>\n",
       "    </tr>\n",
       "    <tr>\n",
       "      <td>1</td>\n",
       "      <td>0.017784</td>\n",
       "      <td>0.020297</td>\n",
       "      <td>0.168721</td>\n",
       "      <td>00:27</td>\n",
       "    </tr>\n",
       "    <tr>\n",
       "      <td>2</td>\n",
       "      <td>0.013352</td>\n",
       "      <td>0.017558</td>\n",
       "      <td>0.123367</td>\n",
       "      <td>00:27</td>\n",
       "    </tr>\n",
       "    <tr>\n",
       "      <td>3</td>\n",
       "      <td>0.011148</td>\n",
       "      <td>0.013977</td>\n",
       "      <td>0.119258</td>\n",
       "      <td>00:27</td>\n",
       "    </tr>\n",
       "    <tr>\n",
       "      <td>4</td>\n",
       "      <td>0.009809</td>\n",
       "      <td>0.015208</td>\n",
       "      <td>0.128555</td>\n",
       "      <td>00:27</td>\n",
       "    </tr>\n",
       "  </tbody>\n",
       "</table>"
      ],
      "text/plain": [
       "<IPython.core.display.HTML object>"
      ]
     },
     "metadata": {},
     "output_type": "display_data"
    }
   ],
   "source": [
    "learn.data.batch_size = 512\n",
    "cb = CustomActivationStats(learn,layer_type=nn.Linear)\n",
    "learn.fit_one_cycle(5,1e-2,callbacks=cb)"
   ]
  },
  {
   "cell_type": "code",
   "execution_count": 131,
   "metadata": {},
   "outputs": [
    {
     "data": {
      "text/html": [
       "<table border=\"1\" class=\"dataframe\">\n",
       "  <thead>\n",
       "    <tr style=\"text-align: left;\">\n",
       "      <th>epoch</th>\n",
       "      <th>train_loss</th>\n",
       "      <th>valid_loss</th>\n",
       "      <th>exp_rmspe</th>\n",
       "      <th>time</th>\n",
       "    </tr>\n",
       "  </thead>\n",
       "  <tbody>\n",
       "    <tr>\n",
       "      <td>0</td>\n",
       "      <td>0.012660</td>\n",
       "      <td>0.017855</td>\n",
       "      <td>0.122049</td>\n",
       "      <td>00:26</td>\n",
       "    </tr>\n",
       "    <tr>\n",
       "      <td>1</td>\n",
       "      <td>0.013935</td>\n",
       "      <td>0.013435</td>\n",
       "      <td>0.117268</td>\n",
       "      <td>00:26</td>\n",
       "    </tr>\n",
       "    <tr>\n",
       "      <td>2</td>\n",
       "      <td>0.010712</td>\n",
       "      <td>0.012952</td>\n",
       "      <td>0.120559</td>\n",
       "      <td>00:26</td>\n",
       "    </tr>\n",
       "    <tr>\n",
       "      <td>3</td>\n",
       "      <td>0.009073</td>\n",
       "      <td>0.012546</td>\n",
       "      <td>0.113333</td>\n",
       "      <td>00:26</td>\n",
       "    </tr>\n",
       "    <tr>\n",
       "      <td>4</td>\n",
       "      <td>0.007750</td>\n",
       "      <td>0.013681</td>\n",
       "      <td>0.115055</td>\n",
       "      <td>00:26</td>\n",
       "    </tr>\n",
       "  </tbody>\n",
       "</table>"
      ],
      "text/plain": [
       "<IPython.core.display.HTML object>"
      ]
     },
     "metadata": {},
     "output_type": "display_data"
    }
   ],
   "source": [
    "learn.fit_one_cycle(5,1e-2)"
   ]
  },
  {
   "cell_type": "code",
   "execution_count": 133,
   "metadata": {},
   "outputs": [
    {
     "data": {
      "text/html": [
       "<table border=\"1\" class=\"dataframe\">\n",
       "  <thead>\n",
       "    <tr style=\"text-align: left;\">\n",
       "      <th>epoch</th>\n",
       "      <th>train_loss</th>\n",
       "      <th>valid_loss</th>\n",
       "      <th>exp_rmspe</th>\n",
       "      <th>time</th>\n",
       "    </tr>\n",
       "  </thead>\n",
       "  <tbody>\n",
       "    <tr>\n",
       "      <td>0</td>\n",
       "      <td>0.010416</td>\n",
       "      <td>0.013932</td>\n",
       "      <td>0.118308</td>\n",
       "      <td>00:26</td>\n",
       "    </tr>\n",
       "    <tr>\n",
       "      <td>1</td>\n",
       "      <td>0.010781</td>\n",
       "      <td>0.014636</td>\n",
       "      <td>0.121650</td>\n",
       "      <td>00:26</td>\n",
       "    </tr>\n",
       "    <tr>\n",
       "      <td>2</td>\n",
       "      <td>0.009373</td>\n",
       "      <td>0.012595</td>\n",
       "      <td>0.112537</td>\n",
       "      <td>00:26</td>\n",
       "    </tr>\n",
       "    <tr>\n",
       "      <td>3</td>\n",
       "      <td>0.008485</td>\n",
       "      <td>0.012189</td>\n",
       "      <td>0.110885</td>\n",
       "      <td>00:26</td>\n",
       "    </tr>\n",
       "    <tr>\n",
       "      <td>4</td>\n",
       "      <td>0.007589</td>\n",
       "      <td>0.011867</td>\n",
       "      <td>0.110691</td>\n",
       "      <td>00:26</td>\n",
       "    </tr>\n",
       "  </tbody>\n",
       "</table>"
      ],
      "text/plain": [
       "<IPython.core.display.HTML object>"
      ]
     },
     "metadata": {},
     "output_type": "display_data"
    }
   ],
   "source": [
    "learn.fit_one_cycle(5,1e-2)"
   ]
  },
  {
   "cell_type": "code",
   "execution_count": 134,
   "metadata": {},
   "outputs": [],
   "source": [
    "learn.save(\"model_5dp_stage3\")"
   ]
  },
  {
   "cell_type": "code",
   "execution_count": 150,
   "metadata": {},
   "outputs": [
    {
     "name": "stdout",
     "output_type": "stream",
     "text": [
      "Current active : False\n",
      "Switching to : False\n",
      "Current active : False\n",
      "Switching to : False\n",
      "Current active : False\n",
      "Switching to : False\n"
     ]
    }
   ],
   "source": [
    "switch_custom_dropout(learn.model,False,True)"
   ]
  },
  {
   "cell_type": "code",
   "execution_count": 153,
   "metadata": {},
   "outputs": [
    {
     "name": "stdout",
     "output_type": "stream",
     "text": [
      "tensor(0.0107)\n",
      "tensor(0.1074)\n"
     ]
    }
   ],
   "source": [
    "pred,y = learn.get_preds()\n",
    "mse = learn.loss_func(pred,y)\n",
    "rmse = exp_rmspe(pred,y)\n",
    "print(mse)\n",
    "print(rmse)"
   ]
  },
  {
   "cell_type": "code",
   "execution_count": 154,
   "metadata": {},
   "outputs": [
    {
     "name": "stdout",
     "output_type": "stream",
     "text": [
      "Current active : False\n",
      "Switching to : True\n",
      "Current active : False\n",
      "Switching to : True\n",
      "Current active : False\n",
      "Switching to : True\n"
     ]
    }
   ],
   "source": [
    "switch_custom_dropout(learn.model,True,True)"
   ]
  },
  {
   "cell_type": "code",
   "execution_count": 155,
   "metadata": {},
   "outputs": [
    {
     "name": "stdout",
     "output_type": "stream",
     "text": [
      "tensor(0.0107)\n",
      "tensor(0.1078)\n"
     ]
    }
   ],
   "source": [
    "pred,y = get_preds_sample(learn,n_sample=20)\n",
    "pred = pred.mean(dim=0)\n",
    "mse = learn.loss_func(pred,y)\n",
    "rmse = exp_rmspe(pred,y)\n",
    "print(mse)\n",
    "print(rmse)"
   ]
  },
  {
   "cell_type": "code",
   "execution_count": 34,
   "metadata": {},
   "outputs": [],
   "source": [
    "def get_preds_sample(learn,ds_type=DatasetType.Valid,n_sample=10,reduce=None):\n",
    "  \n",
    "    preds = []\n",
    "    for i in range(n_sample):\n",
    "        pred,y = learn.get_preds(ds_type=ds_type)\n",
    "        pred = pred.view((1,) + pred.shape)\n",
    "        preds.append(pred)\n",
    "    preds = torch.cat(preds)\n",
    "    if reduce == \"mean\":\n",
    "        preds = preds.mean(dim=0)\n",
    "    return preds,y "
   ]
  },
  {
   "cell_type": "code",
   "execution_count": 141,
   "metadata": {},
   "outputs": [],
   "source": [
    "def switch_custom_dropout(m,activate=True,verbose=False):\n",
    "    for c in m.children():\n",
    "        if isinstance(c, CustomDropout):\n",
    "            print(f\"Current active : {c.activate}\")\n",
    "            print(f\"Switching to : {activate}\")\n",
    "            c.activate = activate\n",
    "        else:\n",
    "            switch_custom_dropout(c,activate=activate)"
   ]
  },
  {
   "cell_type": "code",
   "execution_count": 56,
   "metadata": {},
   "outputs": [
    {
     "name": "stdout",
     "output_type": "stream",
     "text": [
      "Current active : True\n",
      "Switching to : False\n",
      "Current active : True\n",
      "Switching to : True\n",
      "Current active : True\n",
      "Switching to : True\n"
     ]
    }
   ],
   "source": [
    "switch_custom_dropout(learn.model,False,True)"
   ]
  },
  {
   "cell_type": "code",
   "execution_count": 57,
   "metadata": {},
   "outputs": [
    {
     "data": {
      "text/plain": [
       "tensor(0.0119)"
      ]
     },
     "execution_count": 57,
     "metadata": {},
     "output_type": "execute_result"
    }
   ],
   "source": [
    "pred, y = learn.get_preds()\n",
    "learn.loss_func(pred,y)"
   ]
  },
  {
   "cell_type": "code",
   "execution_count": 58,
   "metadata": {},
   "outputs": [
    {
     "data": {
      "text/plain": [
       "tensor(0.1158)"
      ]
     },
     "execution_count": 58,
     "metadata": {},
     "output_type": "execute_result"
    }
   ],
   "source": [
    "exp_rmspe(pred,y)"
   ]
  },
  {
   "cell_type": "code",
   "execution_count": 61,
   "metadata": {},
   "outputs": [
    {
     "name": "stdout",
     "output_type": "stream",
     "text": [
      "Current active : True\n",
      "Switching to : True\n",
      "Current active : True\n",
      "Switching to : True\n",
      "Current active : True\n",
      "Switching to : True\n"
     ]
    }
   ],
   "source": [
    "switch_custom_dropout(learn.model,True,True)"
   ]
  },
  {
   "cell_type": "code",
   "execution_count": 62,
   "metadata": {},
   "outputs": [],
   "source": [
    "preds,y = get_preds_sample(learn)"
   ]
  },
  {
   "cell_type": "code",
   "execution_count": 73,
   "metadata": {},
   "outputs": [
    {
     "data": {
      "text/plain": [
       "0.07590417563915242"
      ]
     },
     "execution_count": 73,
     "metadata": {},
     "output_type": "execute_result"
    }
   ],
   "source": [
    "np.quantile(to_np(preds.std(dim=0)).reshape(-1),0.99)"
   ]
  },
  {
   "cell_type": "code",
   "execution_count": 55,
   "metadata": {},
   "outputs": [
    {
     "data": {
      "text/plain": [
       "tensor(0.1123)"
      ]
     },
     "execution_count": 55,
     "metadata": {},
     "output_type": "execute_result"
    }
   ],
   "source": [
    "exp_rmspe(preds,y)"
   ]
  },
  {
   "cell_type": "code",
   "execution_count": 158,
   "metadata": {
    "colab": {},
    "colab_type": "code",
    "id": "5N15s-1CDoDG"
   },
   "outputs": [],
   "source": [
    "learn = tabular_learner(data, layers=[1000,500], ps=[0.5,0.5], emb_drop=0.05, \n",
    "                        y_range=y_range, metrics=exp_rmspe)\n"
   ]
  },
  {
   "cell_type": "code",
   "execution_count": 159,
   "metadata": {
    "colab": {},
    "colab_type": "code",
    "id": "IBDtLJrDGdZB"
   },
   "outputs": [],
   "source": [
    "final_layer_id = hex(id(learn.model.layers[-1]))"
   ]
  },
  {
   "cell_type": "code",
   "execution_count": 160,
   "metadata": {},
   "outputs": [],
   "source": [
    "from autodropout import CustomDropout"
   ]
  },
  {
   "cell_type": "code",
   "execution_count": 161,
   "metadata": {
    "colab": {},
    "colab_type": "code",
    "id": "iFJqH3eGGiwL"
   },
   "outputs": [],
   "source": [
    "get_args = lambda drop : {\"p\":drop.p}\n",
    "additional_args = {}\n",
    "\n",
    "convert_lin_to_droplin = partial(convert_layers,original = nn.Dropout,replacement = CustomDropout,\n",
    "                                 get_args=get_args,additional_args=additional_args)"
   ]
  },
  {
   "cell_type": "code",
   "execution_count": 162,
   "metadata": {
    "colab": {
     "base_uri": "https://localhost:8080/",
     "height": 73
    },
    "colab_type": "code",
    "id": "CfeAlLmrE1HV",
    "outputId": "4ea0cf20-1d4c-4b90-9b13-cade48ee0ed2"
   },
   "outputs": [],
   "source": [
    "convert_lin_to_droplin(learn.model)"
   ]
  },
  {
   "cell_type": "code",
   "execution_count": 163,
   "metadata": {},
   "outputs": [
    {
     "data": {
      "text/plain": [
       "TabularModel(\n",
       "  (embeds): ModuleList(\n",
       "    (0): Embedding(1116, 81)\n",
       "    (1): Embedding(8, 5)\n",
       "    (2): Embedding(4, 3)\n",
       "    (3): Embedding(13, 7)\n",
       "    (4): Embedding(32, 11)\n",
       "    (5): Embedding(3, 3)\n",
       "    (6): Embedding(26, 10)\n",
       "    (7): Embedding(27, 10)\n",
       "    (8): Embedding(5, 4)\n",
       "    (9): Embedding(4, 3)\n",
       "    (10): Embedding(4, 3)\n",
       "    (11): Embedding(24, 9)\n",
       "    (12): Embedding(9, 5)\n",
       "    (13): Embedding(13, 7)\n",
       "    (14): Embedding(53, 15)\n",
       "    (15): Embedding(22, 9)\n",
       "    (16): Embedding(7, 5)\n",
       "    (17): Embedding(7, 5)\n",
       "    (18): Embedding(4, 3)\n",
       "    (19): Embedding(4, 3)\n",
       "    (20): Embedding(9, 5)\n",
       "    (21): Embedding(9, 5)\n",
       "    (22): Embedding(3, 3)\n",
       "    (23): Embedding(3, 3)\n",
       "  )\n",
       "  (emb_drop): CustomDropout(p=0.05)\n",
       "  (bn_cont): BatchNorm1d(16, eps=1e-05, momentum=0.1, affine=True, track_running_stats=True)\n",
       "  (layers): Sequential(\n",
       "    (0): Linear(in_features=233, out_features=1000, bias=True)\n",
       "    (1): ReLU(inplace=True)\n",
       "    (2): BatchNorm1d(1000, eps=1e-05, momentum=0.1, affine=True, track_running_stats=True)\n",
       "    (3): CustomDropout(p=0.5)\n",
       "    (4): Linear(in_features=1000, out_features=500, bias=True)\n",
       "    (5): ReLU(inplace=True)\n",
       "    (6): BatchNorm1d(500, eps=1e-05, momentum=0.1, affine=True, track_running_stats=True)\n",
       "    (7): CustomDropout(p=0.5)\n",
       "    (8): Linear(in_features=500, out_features=1, bias=True)\n",
       "  )\n",
       ")"
      ]
     },
     "execution_count": 163,
     "metadata": {},
     "output_type": "execute_result"
    }
   ],
   "source": [
    "learn.model"
   ]
  },
  {
   "cell_type": "code",
   "execution_count": 90,
   "metadata": {
    "colab": {
     "base_uri": "https://localhost:8080/",
     "height": 298
    },
    "colab_type": "code",
    "id": "NLc1G3cNGutI",
    "outputId": "f7f484a5-3ade-4ba4-9357-a4187213c992"
   },
   "outputs": [
    {
     "data": {
      "text/html": [],
      "text/plain": [
       "<IPython.core.display.HTML object>"
      ]
     },
     "metadata": {},
     "output_type": "display_data"
    },
    {
     "name": "stdout",
     "output_type": "stream",
     "text": [
      "LR Finder is complete, type {learner_name}.recorder.plot() to see the graph.\n"
     ]
    },
    {
     "data": {
      "image/png": "[encoded data removed]",
      "text/plain": [
       "<Figure size 432x288 with 1 Axes>"
      ]
     },
     "metadata": {
      "needs_background": "light"
     },
     "output_type": "display_data"
    }
   ],
   "source": [
    "learn.lr_find()\n",
    "learn.recorder.plot()"
   ]
  },
  {
   "cell_type": "code",
   "execution_count": 91,
   "metadata": {},
   "outputs": [],
   "source": [
    "from callbacks import CustomActivationStats"
   ]
  },
  {
   "cell_type": "code",
   "execution_count": 92,
   "metadata": {},
   "outputs": [
    {
     "data": {
      "text/html": [
       "<table border=\"1\" class=\"dataframe\">\n",
       "  <thead>\n",
       "    <tr style=\"text-align: left;\">\n",
       "      <th>epoch</th>\n",
       "      <th>train_loss</th>\n",
       "      <th>valid_loss</th>\n",
       "      <th>exp_rmspe</th>\n",
       "      <th>time</th>\n",
       "    </tr>\n",
       "  </thead>\n",
       "  <tbody>\n",
       "    <tr>\n",
       "      <td>0</td>\n",
       "      <td>0.081217</td>\n",
       "      <td>0.063574</td>\n",
       "      <td>0.337992</td>\n",
       "      <td>00:27</td>\n",
       "    </tr>\n",
       "    <tr>\n",
       "      <td>1</td>\n",
       "      <td>0.037912</td>\n",
       "      <td>0.035465</td>\n",
       "      <td>0.316987</td>\n",
       "      <td>00:26</td>\n",
       "    </tr>\n",
       "    <tr>\n",
       "      <td>2</td>\n",
       "      <td>0.028202</td>\n",
       "      <td>0.041379</td>\n",
       "      <td>0.224079</td>\n",
       "      <td>00:26</td>\n",
       "    </tr>\n",
       "    <tr>\n",
       "      <td>3</td>\n",
       "      <td>0.016621</td>\n",
       "      <td>0.029315</td>\n",
       "      <td>0.165213</td>\n",
       "      <td>00:26</td>\n",
       "    </tr>\n",
       "    <tr>\n",
       "      <td>4</td>\n",
       "      <td>0.015004</td>\n",
       "      <td>0.019437</td>\n",
       "      <td>0.138880</td>\n",
       "      <td>00:26</td>\n",
       "    </tr>\n",
       "  </tbody>\n",
       "</table>"
      ],
      "text/plain": [
       "<IPython.core.display.HTML object>"
      ]
     },
     "metadata": {},
     "output_type": "display_data"
    }
   ],
   "source": [
    "learn.data.batch_size = 512\n",
    "cb = CustomActivationStats(learn,layer_type=nn.Linear)\n",
    "learn.fit_one_cycle(5,1e-2,callbacks=cb)"
   ]
  },
  {
   "cell_type": "code",
   "execution_count": 93,
   "metadata": {
    "scrolled": true
   },
   "outputs": [
    {
     "data": {
      "text/html": [
       "<table border=\"1\" class=\"dataframe\">\n",
       "  <thead>\n",
       "    <tr style=\"text-align: left;\">\n",
       "      <th>epoch</th>\n",
       "      <th>train_loss</th>\n",
       "      <th>valid_loss</th>\n",
       "      <th>exp_rmspe</th>\n",
       "      <th>time</th>\n",
       "    </tr>\n",
       "  </thead>\n",
       "  <tbody>\n",
       "    <tr>\n",
       "      <td>0</td>\n",
       "      <td>0.017637</td>\n",
       "      <td>0.041337</td>\n",
       "      <td>0.159859</td>\n",
       "      <td>00:27</td>\n",
       "    </tr>\n",
       "    <tr>\n",
       "      <td>1</td>\n",
       "      <td>0.017842</td>\n",
       "      <td>0.041106</td>\n",
       "      <td>0.167433</td>\n",
       "      <td>00:27</td>\n",
       "    </tr>\n",
       "    <tr>\n",
       "      <td>2</td>\n",
       "      <td>0.015114</td>\n",
       "      <td>0.016499</td>\n",
       "      <td>0.132733</td>\n",
       "      <td>00:26</td>\n",
       "    </tr>\n",
       "    <tr>\n",
       "      <td>3</td>\n",
       "      <td>0.012694</td>\n",
       "      <td>0.017870</td>\n",
       "      <td>0.129144</td>\n",
       "      <td>00:26</td>\n",
       "    </tr>\n",
       "    <tr>\n",
       "      <td>4</td>\n",
       "      <td>0.011860</td>\n",
       "      <td>0.015312</td>\n",
       "      <td>0.126066</td>\n",
       "      <td>00:26</td>\n",
       "    </tr>\n",
       "  </tbody>\n",
       "</table>"
      ],
      "text/plain": [
       "<IPython.core.display.HTML object>"
      ]
     },
     "metadata": {},
     "output_type": "display_data"
    }
   ],
   "source": [
    "learn.fit_one_cycle(5,1e-2,callbacks=cb)"
   ]
  },
  {
   "cell_type": "code",
   "execution_count": 110,
   "metadata": {},
   "outputs": [],
   "source": [
    "learn.save(\"model_50dp_stage2\")"
   ]
  },
  {
   "cell_type": "code",
   "execution_count": 111,
   "metadata": {},
   "outputs": [
    {
     "data": {
      "text/html": [
       "<table border=\"1\" class=\"dataframe\">\n",
       "  <thead>\n",
       "    <tr style=\"text-align: left;\">\n",
       "      <th>epoch</th>\n",
       "      <th>train_loss</th>\n",
       "      <th>valid_loss</th>\n",
       "      <th>exp_rmspe</th>\n",
       "      <th>time</th>\n",
       "    </tr>\n",
       "  </thead>\n",
       "  <tbody>\n",
       "    <tr>\n",
       "      <td>0</td>\n",
       "      <td>0.014905</td>\n",
       "      <td>0.029055</td>\n",
       "      <td>0.162660</td>\n",
       "      <td>00:28</td>\n",
       "    </tr>\n",
       "    <tr>\n",
       "      <td>1</td>\n",
       "      <td>0.016982</td>\n",
       "      <td>0.024629</td>\n",
       "      <td>0.149573</td>\n",
       "      <td>00:26</td>\n",
       "    </tr>\n",
       "    <tr>\n",
       "      <td>2</td>\n",
       "      <td>0.015403</td>\n",
       "      <td>0.017861</td>\n",
       "      <td>0.133831</td>\n",
       "      <td>00:26</td>\n",
       "    </tr>\n",
       "    <tr>\n",
       "      <td>3</td>\n",
       "      <td>0.011853</td>\n",
       "      <td>0.017773</td>\n",
       "      <td>0.123804</td>\n",
       "      <td>00:26</td>\n",
       "    </tr>\n",
       "    <tr>\n",
       "      <td>4</td>\n",
       "      <td>0.011281</td>\n",
       "      <td>0.016060</td>\n",
       "      <td>0.129991</td>\n",
       "      <td>00:26</td>\n",
       "    </tr>\n",
       "  </tbody>\n",
       "</table>"
      ],
      "text/plain": [
       "<IPython.core.display.HTML object>"
      ]
     },
     "metadata": {},
     "output_type": "display_data"
    }
   ],
   "source": [
    "learn.fit_one_cycle(5,1e-2,callbacks=cb)"
   ]
  },
  {
   "cell_type": "code",
   "execution_count": 164,
   "metadata": {},
   "outputs": [
    {
     "data": {
      "text/plain": [
       "Learner(data=TabularDataBunch;\n",
       "\n",
       "Train: LabelList (802943 items)\n",
       "x: TabularList\n",
       "Store 1115; DayOfWeek 5; Year 2015; Month 6; Day 19; StateHoliday False; CompetitionMonthsOpen 0; Promo2Weeks 25; StoreType d; Assortment c; PromoInterval Mar,Jun,Sept,Dec; CompetitionOpenSinceYear 1900; Promo2SinceYear 2012; State HE; Week 25; Events Rain; Promo_fw 1.0; Promo_bw 5.0; StateHoliday_fw 0.0; StateHoliday_bw 0.0; SchoolHoliday_fw 0.0; SchoolHoliday_bw 0.0; CompetitionDistance_na False; CloudCover_na False; CompetitionDistance -0.0130; Max_TemperatureC 0.1333; Mean_TemperatureC 0.4683; Min_TemperatureC 0.8602; Max_Humidity 0.0780; Mean_Humidity -0.3412; Min_Humidity -0.0811; Max_Wind_SpeedKm_h -0.1780; Mean_Wind_SpeedKm_h 0.1902; CloudCover 0.2552; trend 0.4066; trend_DE 0.5969; AfterStateHoliday -0.7329; BeforeStateHoliday 1.1848; Promo 1.1119; SchoolHoliday -0.4796; ,Store 1; DayOfWeek 4; Year 2015; Month 6; Day 18; StateHoliday False; CompetitionMonthsOpen 24; Promo2Weeks 0; StoreType c; Assortment a; PromoInterval #na#; CompetitionOpenSinceYear 2008; Promo2SinceYear 1900; State HE; Week 25; Events Rain; Promo_fw 2.0; Promo_bw 4.0; StateHoliday_fw 0.0; StateHoliday_bw 0.0; SchoolHoliday_fw 0.0; SchoolHoliday_bw 0.0; CompetitionDistance_na False; CloudCover_na False; CompetitionDistance -0.5358; Max_TemperatureC 0.8549; Mean_TemperatureC 1.0322; Min_TemperatureC 1.1756; Max_Humidity 0.8653; Mean_Humidity -0.6479; Min_Humidity -1.0487; Max_Wind_SpeedKm_h 0.3768; Mean_Wind_SpeedKm_h 0.1902; CloudCover 0.2552; trend 0.4066; trend_DE 0.5969; AfterStateHoliday -0.7645; BeforeStateHoliday 1.1848; Promo 1.1119; SchoolHoliday -0.4796; ,Store 2; DayOfWeek 4; Year 2015; Month 6; Day 18; StateHoliday False; CompetitionMonthsOpen 24; Promo2Weeks 25; StoreType a; Assortment a; PromoInterval Jan,Apr,Jul,Oct; CompetitionOpenSinceYear 2007; Promo2SinceYear 2010; State TH; Week 25; Events Rain; Promo_fw 2.0; Promo_bw 4.0; StateHoliday_fw 0.0; StateHoliday_bw 0.0; SchoolHoliday_fw 0.0; SchoolHoliday_bw 0.0; CompetitionDistance_na False; CloudCover_na False; CompetitionDistance -0.6255; Max_TemperatureC 0.6144; Mean_TemperatureC 0.8912; Min_TemperatureC 1.0179; Max_Humidity 0.8653; Mean_Humidity -0.1112; Min_Humidity -0.6413; Max_Wind_SpeedKm_h 0.4878; Mean_Wind_SpeedKm_h 0.3579; CloudCover 0.2552; trend -0.4997; trend_DE 0.5969; AfterStateHoliday -0.4486; BeforeStateHoliday 1.1848; Promo 1.1119; SchoolHoliday -0.4796; ,Store 3; DayOfWeek 4; Year 2015; Month 6; Day 18; StateHoliday False; CompetitionMonthsOpen 24; Promo2Weeks 25; StoreType a; Assortment a; PromoInterval Jan,Apr,Jul,Oct; CompetitionOpenSinceYear 2006; Promo2SinceYear 2011; State NW; Week 25; Events Rain; Promo_fw 2.0; Promo_bw 4.0; StateHoliday_fw 0.0; StateHoliday_bw 0.0; SchoolHoliday_fw 0.0; SchoolHoliday_bw 0.0; CompetitionDistance_na False; CloudCover_na False; CompetitionDistance 1.1122; Max_TemperatureC 0.7346; Mean_TemperatureC 1.0322; Min_TemperatureC 1.1756; Max_Humidity 0.8653; Mean_Humidity -0.4945; Min_Humidity -0.8959; Max_Wind_SpeedKm_h 0.7097; Mean_Wind_SpeedKm_h 0.3579; CloudCover 0.2552; trend 1.0410; trend_DE 0.5969; AfterStateHoliday -0.7645; BeforeStateHoliday 1.1848; Promo 1.1119; SchoolHoliday -0.4796; ,Store 4; DayOfWeek 4; Year 2015; Month 6; Day 18; StateHoliday False; CompetitionMonthsOpen 24; Promo2Weeks 0; StoreType c; Assortment c; PromoInterval #na#; CompetitionOpenSinceYear 2009; Promo2SinceYear 1900; State BE; Week 25; Events Rain; Promo_fw 2.0; Promo_bw 4.0; StateHoliday_fw 0.0; StateHoliday_bw 0.0; SchoolHoliday_fw 0.0; SchoolHoliday_bw 0.0; CompetitionDistance_na False; CloudCover_na False; CompetitionDistance -0.6191; Max_TemperatureC 0.8549; Mean_TemperatureC 1.0322; Min_TemperatureC 1.0179; Max_Humidity 0.8653; Mean_Humidity -0.4179; Min_Humidity -0.8450; Max_Wind_SpeedKm_h 0.1549; Mean_Wind_SpeedKm_h 0.3579; CloudCover 0.2552; trend -0.1372; trend_DE 0.5969; AfterStateHoliday -0.4486; BeforeStateHoliday 1.1848; Promo 1.1119; SchoolHoliday -0.4796; \n",
       "y: FloatList\n",
       "9.022926,8.443546,8.547528,8.92758,9.091557\n",
       "Path: .;\n",
       "\n",
       "Valid: LabelList (41395 items)\n",
       "x: TabularList\n",
       "Store 1; DayOfWeek 5; Year 2015; Month 7; Day 31; StateHoliday False; CompetitionMonthsOpen 24; Promo2Weeks 0; StoreType c; Assortment a; PromoInterval #na#; CompetitionOpenSinceYear 2008; Promo2SinceYear 1900; State HE; Week 31; Events Fog; Promo_fw 5.0; Promo_bw 5.0; StateHoliday_fw 0.0; StateHoliday_bw 0.0; SchoolHoliday_fw 7.0; SchoolHoliday_bw 5.0; CompetitionDistance_na False; CloudCover_na False; CompetitionDistance -0.5358; Max_TemperatureC 1.0954; Mean_TemperatureC 0.8912; Min_TemperatureC 0.3871; Max_Humidity 0.6029; Mean_Humidity -1.5678; Min_Humidity -1.6598; Max_Wind_SpeedKm_h 0.1549; Mean_Wind_SpeedKm_h -0.1452; CloudCover -2.8229; trend 1.8567; trend_DE 1.8939; AfterStateHoliday 0.5940; BeforeStateHoliday 1.1848; Promo 1.1119; SchoolHoliday 2.0852; ,Store 2; DayOfWeek 5; Year 2015; Month 7; Day 31; StateHoliday False; CompetitionMonthsOpen 24; Promo2Weeks 25; StoreType a; Assortment a; PromoInterval Jan,Apr,Jul,Oct; CompetitionOpenSinceYear 2007; Promo2SinceYear 2010; State TH; Week 31; Events Fog; Promo_fw 1.0; Promo_bw 5.0; StateHoliday_fw 0.0; StateHoliday_bw 0.0; SchoolHoliday_fw 1.0; SchoolHoliday_bw 5.0; CompetitionDistance_na False; CloudCover_na False; CompetitionDistance -0.6255; Max_TemperatureC 0.6144; Mean_TemperatureC 0.4683; Min_TemperatureC 0.2293; Max_Humidity 0.8653; Mean_Humidity -0.9545; Min_Humidity -1.3033; Max_Wind_SpeedKm_h -0.9548; Mean_Wind_SpeedKm_h -0.1452; CloudCover -0.9761; trend 1.4035; trend_DE 1.8939; AfterStateHoliday 0.9099; BeforeStateHoliday 1.1848; Promo 1.1119; SchoolHoliday 2.0852; ,Store 3; DayOfWeek 5; Year 2015; Month 7; Day 31; StateHoliday False; CompetitionMonthsOpen 24; Promo2Weeks 25; StoreType a; Assortment a; PromoInterval Jan,Apr,Jul,Oct; CompetitionOpenSinceYear 2006; Promo2SinceYear 2011; State NW; Week 31; Events Fog; Promo_fw 5.0; Promo_bw 5.0; StateHoliday_fw 0.0; StateHoliday_bw 0.0; SchoolHoliday_fw 5.0; SchoolHoliday_bw 5.0; CompetitionDistance_na False; CloudCover_na False; CompetitionDistance 1.1122; Max_TemperatureC 0.8549; Mean_TemperatureC 0.4683; Min_TemperatureC 0.0716; Max_Humidity 0.8653; Mean_Humidity -1.0312; Min_Humidity -1.3542; Max_Wind_SpeedKm_h -0.9548; Mean_Wind_SpeedKm_h -1.1514; CloudCover -2.2073; trend 1.9473; trend_DE 1.8939; AfterStateHoliday 0.5940; BeforeStateHoliday 1.1848; Promo 1.1119; SchoolHoliday 2.0852; ,Store 4; DayOfWeek 5; Year 2015; Month 7; Day 31; StateHoliday False; CompetitionMonthsOpen 24; Promo2Weeks 0; StoreType c; Assortment c; PromoInterval #na#; CompetitionOpenSinceYear 2009; Promo2SinceYear 1900; State BE; Week 31; Events #na#; Promo_fw 1.0; Promo_bw 5.0; StateHoliday_fw 0.0; StateHoliday_bw 0.0; SchoolHoliday_fw 1.0; SchoolHoliday_bw 5.0; CompetitionDistance_na False; CloudCover_na False; CompetitionDistance -0.6191; Max_TemperatureC 0.6144; Mean_TemperatureC 0.6092; Min_TemperatureC 0.5448; Max_Humidity 0.0780; Mean_Humidity -1.0312; Min_Humidity -1.0487; Max_Wind_SpeedKm_h 0.0439; Mean_Wind_SpeedKm_h 0.6933; CloudCover 0.2552; trend 0.8597; trend_DE 1.8939; AfterStateHoliday 0.9099; BeforeStateHoliday 1.1848; Promo 1.1119; SchoolHoliday 2.0852; ,Store 5; DayOfWeek 5; Year 2015; Month 7; Day 31; StateHoliday False; CompetitionMonthsOpen 3; Promo2Weeks 0; StoreType a; Assortment a; PromoInterval #na#; CompetitionOpenSinceYear 2015; Promo2SinceYear 1900; State SN; Week 31; Events #na#; Promo_fw 1.0; Promo_bw 5.0; StateHoliday_fw 0.0; StateHoliday_bw 0.0; SchoolHoliday_fw 1.0; SchoolHoliday_bw 5.0; CompetitionDistance_na False; CloudCover_na False; CompetitionDistance 3.1344; Max_TemperatureC 0.7346; Mean_TemperatureC 0.7502; Min_TemperatureC 0.7025; Max_Humidity -1.4966; Mean_Humidity -1.4912; Min_Humidity -1.2524; Max_Wind_SpeedKm_h -0.9548; Mean_Wind_SpeedKm_h -0.1452; CloudCover -0.9761; trend 1.5848; trend_DE 1.8939; AfterStateHoliday 0.5940; BeforeStateHoliday 1.1848; Promo 1.1119; SchoolHoliday 2.0852; \n",
       "y: FloatList\n",
       "8.568457,8.710125,9.025696,9.546455,8.480944\n",
       "Path: .;\n",
       "\n",
       "Test: LabelList (41088 items)\n",
       "x: TabularList\n",
       "Store 1; DayOfWeek 4; Year 2015; Month 9; Day 17; StateHoliday False; CompetitionMonthsOpen 24; Promo2Weeks 0; StoreType c; Assortment a; PromoInterval #na#; CompetitionOpenSinceYear 2008; Promo2SinceYear 1900; State HE; Week 38; Events Rain; Promo_fw 1.0; Promo_bw 4.0; StateHoliday_fw 0.0; StateHoliday_bw 0.0; SchoolHoliday_fw 0.0; SchoolHoliday_bw 0.0; CompetitionDistance_na False; CloudCover_na False; CompetitionDistance -0.5358; Max_TemperatureC 0.2536; Mean_TemperatureC 0.6092; Min_TemperatureC 1.1756; Max_Humidity 0.8653; Mean_Humidity 1.5754; Min_Humidity 1.9049; Max_Wind_SpeedKm_h 0.7097; Mean_Wind_SpeedKm_h 0.3579; CloudCover 0.2552; trend 0.4066; trend_DE 0.1645; AfterStateHoliday 2.1104; BeforeStateHoliday 1.1848; Promo 1.1119; SchoolHoliday -0.4796; ,Store 3; DayOfWeek 4; Year 2015; Month 9; Day 17; StateHoliday False; CompetitionMonthsOpen 24; Promo2Weeks 25; StoreType a; Assortment a; PromoInterval Jan,Apr,Jul,Oct; CompetitionOpenSinceYear 2006; Promo2SinceYear 2011; State NW; Week 38; Events Rain; Promo_fw 1.0; Promo_bw 4.0; StateHoliday_fw 0.0; StateHoliday_bw 0.0; SchoolHoliday_fw 0.0; SchoolHoliday_bw 0.0; CompetitionDistance_na False; CloudCover_na False; CompetitionDistance 1.1122; Max_TemperatureC 0.3738; Mean_TemperatureC 0.6092; Min_TemperatureC 1.0179; Max_Humidity 0.8653; Mean_Humidity 0.2721; Min_Humidity 0.3772; Max_Wind_SpeedKm_h 1.5975; Mean_Wind_SpeedKm_h 2.3704; CloudCover 0.2552; trend 0.3159; trend_DE 0.1645; AfterStateHoliday 2.1104; BeforeStateHoliday 1.1848; Promo 1.1119; SchoolHoliday -0.4796; ,Store 7; DayOfWeek 4; Year 2015; Month 9; Day 17; StateHoliday False; CompetitionMonthsOpen 24; Promo2Weeks 0; StoreType a; Assortment c; PromoInterval #na#; CompetitionOpenSinceYear 2013; Promo2SinceYear 1900; State SH; Week 38; Events Rain; Promo_fw 1.0; Promo_bw 4.0; StateHoliday_fw 0.0; StateHoliday_bw 0.0; SchoolHoliday_fw 0.0; SchoolHoliday_bw 0.0; CompetitionDistance_na False; CloudCover_na False; CompetitionDistance 2.3770; Max_TemperatureC 0.4941; Mean_TemperatureC 0.8912; Min_TemperatureC 1.1756; Max_Humidity 0.3404; Mean_Humidity -0.1112; Min_Humidity 0.5300; Max_Wind_SpeedKm_h 0.7097; Mean_Wind_SpeedKm_h 0.3579; CloudCover -0.3604; trend -0.4997; trend_DE 0.1645; AfterStateHoliday 2.4263; BeforeStateHoliday 1.1848; Promo 1.1119; SchoolHoliday -0.4796; ,Store 8; DayOfWeek 4; Year 2015; Month 9; Day 17; StateHoliday False; CompetitionMonthsOpen 11; Promo2Weeks 0; StoreType a; Assortment a; PromoInterval #na#; CompetitionOpenSinceYear 2014; Promo2SinceYear 1900; State SH; Week 38; Events Rain; Promo_fw 1.0; Promo_bw 4.0; StateHoliday_fw 0.0; StateHoliday_bw 0.0; SchoolHoliday_fw 0.0; SchoolHoliday_bw 0.0; CompetitionDistance_na False; CloudCover_na False; CompetitionDistance 0.2651; Max_TemperatureC 0.4941; Mean_TemperatureC 0.8912; Min_TemperatureC 1.1756; Max_Humidity 0.3404; Mean_Humidity -0.1112; Min_Humidity 0.5300; Max_Wind_SpeedKm_h 0.7097; Mean_Wind_SpeedKm_h 0.3579; CloudCover -0.3604; trend -0.4997; trend_DE 0.1645; AfterStateHoliday 2.4263; BeforeStateHoliday 1.1848; Promo 1.1119; SchoolHoliday -0.4796; ,Store 9; DayOfWeek 4; Year 2015; Month 9; Day 17; StateHoliday False; CompetitionMonthsOpen 24; Promo2Weeks 0; StoreType a; Assortment c; PromoInterval #na#; CompetitionOpenSinceYear 2000; Promo2SinceYear 1900; State NW; Week 38; Events Rain; Promo_fw 1.0; Promo_bw 4.0; StateHoliday_fw 0.0; StateHoliday_bw 0.0; SchoolHoliday_fw 0.0; SchoolHoliday_bw 0.0; CompetitionDistance_na False; CloudCover_na False; CompetitionDistance -0.4384; Max_TemperatureC 0.3738; Mean_TemperatureC 0.6092; Min_TemperatureC 1.0179; Max_Humidity 0.8653; Mean_Humidity 0.2721; Min_Humidity 0.3772; Max_Wind_SpeedKm_h 1.5975; Mean_Wind_SpeedKm_h 2.3704; CloudCover 0.2552; trend 0.3159; trend_DE 0.1645; AfterStateHoliday 2.1104; BeforeStateHoliday 1.1848; Promo 1.1119; SchoolHoliday -0.4796; \n",
       "y: EmptyLabelList\n",
       ",,,,\n",
       "Path: ., model=TabularModel(\n",
       "  (embeds): ModuleList(\n",
       "    (0): Embedding(1116, 81)\n",
       "    (1): Embedding(8, 5)\n",
       "    (2): Embedding(4, 3)\n",
       "    (3): Embedding(13, 7)\n",
       "    (4): Embedding(32, 11)\n",
       "    (5): Embedding(3, 3)\n",
       "    (6): Embedding(26, 10)\n",
       "    (7): Embedding(27, 10)\n",
       "    (8): Embedding(5, 4)\n",
       "    (9): Embedding(4, 3)\n",
       "    (10): Embedding(4, 3)\n",
       "    (11): Embedding(24, 9)\n",
       "    (12): Embedding(9, 5)\n",
       "    (13): Embedding(13, 7)\n",
       "    (14): Embedding(53, 15)\n",
       "    (15): Embedding(22, 9)\n",
       "    (16): Embedding(7, 5)\n",
       "    (17): Embedding(7, 5)\n",
       "    (18): Embedding(4, 3)\n",
       "    (19): Embedding(4, 3)\n",
       "    (20): Embedding(9, 5)\n",
       "    (21): Embedding(9, 5)\n",
       "    (22): Embedding(3, 3)\n",
       "    (23): Embedding(3, 3)\n",
       "  )\n",
       "  (emb_drop): CustomDropout(p=0.05)\n",
       "  (bn_cont): BatchNorm1d(16, eps=1e-05, momentum=0.1, affine=True, track_running_stats=True)\n",
       "  (layers): Sequential(\n",
       "    (0): Linear(in_features=233, out_features=1000, bias=True)\n",
       "    (1): ReLU(inplace=True)\n",
       "    (2): BatchNorm1d(1000, eps=1e-05, momentum=0.1, affine=True, track_running_stats=True)\n",
       "    (3): CustomDropout(p=0.5)\n",
       "    (4): Linear(in_features=1000, out_features=500, bias=True)\n",
       "    (5): ReLU(inplace=True)\n",
       "    (6): BatchNorm1d(500, eps=1e-05, momentum=0.1, affine=True, track_running_stats=True)\n",
       "    (7): CustomDropout(p=0.5)\n",
       "    (8): Linear(in_features=500, out_features=1, bias=True)\n",
       "  )\n",
       "), opt_func=functools.partial(<class 'torch.optim.adam.Adam'>, betas=(0.9, 0.99)), loss_func=FlattenedLoss of MSELoss(), metrics=[<function exp_rmspe at 0x7f1b49577320>], true_wd=True, bn_wd=True, wd=0.01, train_bn=True, path=PosixPath('.'), model_dir='models', callback_fns=[functools.partial(<class 'fastai.basic_train.Recorder'>, add_time=True, silent=False)], callbacks=[], layer_groups=[Sequential(\n",
       "  (0): Embedding(1116, 81)\n",
       "  (1): Embedding(8, 5)\n",
       "  (2): Embedding(4, 3)\n",
       "  (3): Embedding(13, 7)\n",
       "  (4): Embedding(32, 11)\n",
       "  (5): Embedding(3, 3)\n",
       "  (6): Embedding(26, 10)\n",
       "  (7): Embedding(27, 10)\n",
       "  (8): Embedding(5, 4)\n",
       "  (9): Embedding(4, 3)\n",
       "  (10): Embedding(4, 3)\n",
       "  (11): Embedding(24, 9)\n",
       "  (12): Embedding(9, 5)\n",
       "  (13): Embedding(13, 7)\n",
       "  (14): Embedding(53, 15)\n",
       "  (15): Embedding(22, 9)\n",
       "  (16): Embedding(7, 5)\n",
       "  (17): Embedding(7, 5)\n",
       "  (18): Embedding(4, 3)\n",
       "  (19): Embedding(4, 3)\n",
       "  (20): Embedding(9, 5)\n",
       "  (21): Embedding(9, 5)\n",
       "  (22): Embedding(3, 3)\n",
       "  (23): Embedding(3, 3)\n",
       "  (24): Dropout(p=0.05, inplace=False)\n",
       "  (25): BatchNorm1d(16, eps=1e-05, momentum=0.1, affine=True, track_running_stats=True)\n",
       "  (26): Linear(in_features=233, out_features=1000, bias=True)\n",
       "  (27): ReLU(inplace=True)\n",
       "  (28): BatchNorm1d(1000, eps=1e-05, momentum=0.1, affine=True, track_running_stats=True)\n",
       "  (29): Dropout(p=0.5, inplace=False)\n",
       "  (30): Linear(in_features=1000, out_features=500, bias=True)\n",
       "  (31): ReLU(inplace=True)\n",
       "  (32): BatchNorm1d(500, eps=1e-05, momentum=0.1, affine=True, track_running_stats=True)\n",
       "  (33): Dropout(p=0.5, inplace=False)\n",
       "  (34): Linear(in_features=500, out_features=1, bias=True)\n",
       ")], add_time=True, silent=False)"
      ]
     },
     "execution_count": 164,
     "metadata": {},
     "output_type": "execute_result"
    }
   ],
   "source": [
    "# learn.save(\"model_50dp_stage3\")\n",
    "learn.load(\"model_50dp_stage3\")"
   ]
  },
  {
   "cell_type": "code",
   "execution_count": 165,
   "metadata": {},
   "outputs": [
    {
     "data": {
      "text/plain": [
       "TabularModel(\n",
       "  (embeds): ModuleList(\n",
       "    (0): Embedding(1116, 81)\n",
       "    (1): Embedding(8, 5)\n",
       "    (2): Embedding(4, 3)\n",
       "    (3): Embedding(13, 7)\n",
       "    (4): Embedding(32, 11)\n",
       "    (5): Embedding(3, 3)\n",
       "    (6): Embedding(26, 10)\n",
       "    (7): Embedding(27, 10)\n",
       "    (8): Embedding(5, 4)\n",
       "    (9): Embedding(4, 3)\n",
       "    (10): Embedding(4, 3)\n",
       "    (11): Embedding(24, 9)\n",
       "    (12): Embedding(9, 5)\n",
       "    (13): Embedding(13, 7)\n",
       "    (14): Embedding(53, 15)\n",
       "    (15): Embedding(22, 9)\n",
       "    (16): Embedding(7, 5)\n",
       "    (17): Embedding(7, 5)\n",
       "    (18): Embedding(4, 3)\n",
       "    (19): Embedding(4, 3)\n",
       "    (20): Embedding(9, 5)\n",
       "    (21): Embedding(9, 5)\n",
       "    (22): Embedding(3, 3)\n",
       "    (23): Embedding(3, 3)\n",
       "  )\n",
       "  (emb_drop): CustomDropout(p=0.05)\n",
       "  (bn_cont): BatchNorm1d(16, eps=1e-05, momentum=0.1, affine=True, track_running_stats=True)\n",
       "  (layers): Sequential(\n",
       "    (0): Linear(in_features=233, out_features=1000, bias=True)\n",
       "    (1): ReLU(inplace=True)\n",
       "    (2): BatchNorm1d(1000, eps=1e-05, momentum=0.1, affine=True, track_running_stats=True)\n",
       "    (3): CustomDropout(p=0.5)\n",
       "    (4): Linear(in_features=1000, out_features=500, bias=True)\n",
       "    (5): ReLU(inplace=True)\n",
       "    (6): BatchNorm1d(500, eps=1e-05, momentum=0.1, affine=True, track_running_stats=True)\n",
       "    (7): CustomDropout(p=0.5)\n",
       "    (8): Linear(in_features=500, out_features=1, bias=True)\n",
       "  )\n",
       ")"
      ]
     },
     "execution_count": 165,
     "metadata": {},
     "output_type": "execute_result"
    }
   ],
   "source": [
    "learn.model"
   ]
  },
  {
   "cell_type": "code",
   "execution_count": 177,
   "metadata": {},
   "outputs": [
    {
     "name": "stdout",
     "output_type": "stream",
     "text": [
      "Current active : True\n",
      "Switching to : False\n",
      "Current active : True\n",
      "Switching to : False\n",
      "Current active : True\n",
      "Switching to : False\n"
     ]
    }
   ],
   "source": [
    "switch_custom_dropout(learn.model,False,True)"
   ]
  },
  {
   "cell_type": "code",
   "execution_count": 178,
   "metadata": {},
   "outputs": [
    {
     "name": "stdout",
     "output_type": "stream",
     "text": [
      "tensor(0.0111)\n",
      "tensor(0.1104)\n"
     ]
    }
   ],
   "source": [
    "pred,y = learn.get_preds()\n",
    "mse = learn.loss_func(pred,y)\n",
    "rmse = exp_rmspe(pred,y)\n",
    "print(mse)\n",
    "print(rmse)"
   ]
  },
  {
   "cell_type": "code",
   "execution_count": 169,
   "metadata": {},
   "outputs": [
    {
     "name": "stdout",
     "output_type": "stream",
     "text": [
      "Current active : False\n",
      "Switching to : True\n",
      "Current active : False\n",
      "Switching to : True\n",
      "Current active : False\n",
      "Switching to : True\n"
     ]
    }
   ],
   "source": [
    "switch_custom_dropout(learn.model,True,True)"
   ]
  },
  {
   "cell_type": "code",
   "execution_count": 171,
   "metadata": {},
   "outputs": [],
   "source": [
    "learn.data.batch_size = 512"
   ]
  },
  {
   "cell_type": "code",
   "execution_count": 176,
   "metadata": {},
   "outputs": [
    {
     "name": "stdout",
     "output_type": "stream",
     "text": [
      "tensor(0.0112)\n",
      "tensor(0.1114)\n"
     ]
    }
   ],
   "source": [
    "pred,y = get_preds_sample(learn,n_sample=50)\n",
    "pred = pred.mean(dim = 0)\n",
    "mse = learn.loss_func(pred,y)\n",
    "rmse = exp_rmspe(pred,y)\n",
    "print(mse)\n",
    "print(rmse)"
   ]
  },
  {
   "cell_type": "code",
   "execution_count": 117,
   "metadata": {},
   "outputs": [],
   "source": [
    "n_samples = [10,20,30,40,50,60,70]\n",
    "\n",
    "output = []\n",
    "\n",
    "for n_sample in n_samples:\n",
    "    preds, y = get_preds_sample(learn,n_sample=n_sample)\n",
    "    preds = preds.mean(dim = 0)\n",
    "    mse = learn.loss_func(preds,y)\n",
    "    rmse = exp_rmspe(preds,y)\n",
    "    output.append({\"n_sample\":n_sample,\"mse\":mse.item(),\"rmse\":rmse.item()})"
   ]
  },
  {
   "cell_type": "code",
   "execution_count": 120,
   "metadata": {},
   "outputs": [],
   "source": [
    "df = pd.DataFrame(output)"
   ]
  },
  {
   "cell_type": "code",
   "execution_count": 123,
   "metadata": {},
   "outputs": [
    {
     "data": {
      "text/plain": [
       "<matplotlib.axes._subplots.AxesSubplot at 0x7f1b09e325d0>"
      ]
     },
     "execution_count": 123,
     "metadata": {},
     "output_type": "execute_result"
    },
    {
     "data": {
      "image/png": "[encoded data removed]",
      "text/plain": [
       "<Figure size 432x288 with 1 Axes>"
      ]
     },
     "metadata": {
      "needs_background": "light"
     },
     "output_type": "display_data"
    }
   ],
   "source": [
    "df.set_index(\"n_sample\")[\"rmse\"].plot()"
   ]
  },
  {
   "cell_type": "code",
   "execution_count": 28,
   "metadata": {},
   "outputs": [
    {
     "data": {
      "text/html": [
       "<table border=\"1\" class=\"dataframe\">\n",
       "  <thead>\n",
       "    <tr style=\"text-align: left;\">\n",
       "      <th>epoch</th>\n",
       "      <th>train_loss</th>\n",
       "      <th>valid_loss</th>\n",
       "      <th>exp_rmspe</th>\n",
       "      <th>time</th>\n",
       "    </tr>\n",
       "  </thead>\n",
       "  <tbody>\n",
       "    <tr>\n",
       "      <td>0</td>\n",
       "      <td>0.024493</td>\n",
       "      <td>1.977525</td>\n",
       "      <td>0.825859</td>\n",
       "      <td>00:25</td>\n",
       "    </tr>\n",
       "    <tr>\n",
       "      <td>1</td>\n",
       "      <td>0.181936</td>\n",
       "      <td>39.881496</td>\n",
       "      <td>4.922277</td>\n",
       "      <td>00:25</td>\n",
       "    </tr>\n",
       "    <tr>\n",
       "      <td>2</td>\n",
       "      <td>0.182660</td>\n",
       "      <td>33.916901</td>\n",
       "      <td>5.233205</td>\n",
       "      <td>00:25</td>\n",
       "    </tr>\n",
       "    <tr>\n",
       "      <td>3</td>\n",
       "      <td>0.182224</td>\n",
       "      <td>57.192619</td>\n",
       "      <td>3.143337</td>\n",
       "      <td>00:26</td>\n",
       "    </tr>\n",
       "    <tr>\n",
       "      <td>4</td>\n",
       "      <td>0.181232</td>\n",
       "      <td>17.434303</td>\n",
       "      <td>1.729687</td>\n",
       "      <td>00:25</td>\n",
       "    </tr>\n",
       "  </tbody>\n",
       "</table>"
      ],
      "text/plain": [
       "<IPython.core.display.HTML object>"
      ]
     },
     "metadata": {},
     "output_type": "display_data"
    }
   ],
   "source": [
    "learn.fit_one_cycle(5,1e-2)"
   ]
  },
  {
   "cell_type": "code",
   "execution_count": 29,
   "metadata": {},
   "outputs": [
    {
     "data": {
      "text/html": [
       "<table border=\"1\" class=\"dataframe\">\n",
       "  <thead>\n",
       "    <tr style=\"text-align: left;\">\n",
       "      <th>epoch</th>\n",
       "      <th>train_loss</th>\n",
       "      <th>valid_loss</th>\n",
       "      <th>exp_rmspe</th>\n",
       "      <th>time</th>\n",
       "    </tr>\n",
       "  </thead>\n",
       "  <tbody>\n",
       "    <tr>\n",
       "      <td>0</td>\n",
       "      <td>0.181483</td>\n",
       "      <td>0.171640</td>\n",
       "      <td>0.484261</td>\n",
       "      <td>00:25</td>\n",
       "    </tr>\n",
       "    <tr>\n",
       "      <td>1</td>\n",
       "      <td>0.182618</td>\n",
       "      <td>0.171800</td>\n",
       "      <td>0.488443</td>\n",
       "      <td>00:25</td>\n",
       "    </tr>\n",
       "    <tr>\n",
       "      <td>2</td>\n",
       "      <td>0.183509</td>\n",
       "      <td>0.172443</td>\n",
       "      <td>0.464002</td>\n",
       "      <td>00:25</td>\n",
       "    </tr>\n",
       "    <tr>\n",
       "      <td>3</td>\n",
       "      <td>0.177584</td>\n",
       "      <td>0.171597</td>\n",
       "      <td>0.477173</td>\n",
       "      <td>00:25</td>\n",
       "    </tr>\n",
       "    <tr>\n",
       "      <td>4</td>\n",
       "      <td>0.181350</td>\n",
       "      <td>0.171688</td>\n",
       "      <td>0.473812</td>\n",
       "      <td>00:25</td>\n",
       "    </tr>\n",
       "  </tbody>\n",
       "</table>"
      ],
      "text/plain": [
       "<IPython.core.display.HTML object>"
      ]
     },
     "metadata": {},
     "output_type": "display_data"
    }
   ],
   "source": [
    "\n",
    "learn.fit_one_cycle(5,1e-2)"
   ]
  },
  {
   "cell_type": "code",
   "execution_count": 30,
   "metadata": {},
   "outputs": [
    {
     "data": {
      "text/plain": [
       "Sequential(\n",
       "  (0): DropLinear(\n",
       "    (dp): AutoDropout(\n",
       "      p=-0.00025209318846464157\n",
       "      (plu): PLU()\n",
       "    )\n",
       "    (W): Linear(in_features=233, out_features=1000, bias=True)\n",
       "  )\n",
       "  (1): ReLU(inplace=True)\n",
       "  (2): BatchNorm1d(1000, eps=1e-05, momentum=0.1, affine=True, track_running_stats=True)\n",
       "  (4): DropLinear(\n",
       "    (dp): AutoDropout(\n",
       "      p=-0.0031922098714858294\n",
       "      (plu): PLU()\n",
       "    )\n",
       "    (W): Linear(in_features=1000, out_features=500, bias=True)\n",
       "  )\n",
       "  (5): ReLU(inplace=True)\n",
       "  (6): BatchNorm1d(500, eps=1e-05, momentum=0.1, affine=True, track_running_stats=True)\n",
       "  (8): Linear(in_features=500, out_features=1, bias=True)\n",
       ")"
      ]
     },
     "execution_count": 30,
     "metadata": {},
     "output_type": "execute_result"
    }
   ],
   "source": [
    "learn.model.layers"
   ]
  },
  {
   "cell_type": "code",
   "execution_count": 62,
   "metadata": {},
   "outputs": [
    {
     "data": {
      "text/plain": [
       "array(['0x7f851d11b690', '0x7f851d131310'], dtype=object)"
      ]
     },
     "execution_count": 62,
     "metadata": {},
     "output_type": "execute_result"
    }
   ],
   "source": [
    "kl.df_stats.module.unique()"
   ]
  },
  {
   "cell_type": "code",
   "execution_count": 63,
   "metadata": {},
   "outputs": [
    {
     "data": {
      "text/plain": [
       "<matplotlib.axes._subplots.AxesSubplot at 0x7f851ae475d0>"
      ]
     },
     "execution_count": 63,
     "metadata": {},
     "output_type": "execute_result"
    },
    {
     "data": {
      "image/png": "[encoded data removed]",
      "text/plain": [
       "<Figure size 432x288 with 1 Axes>"
      ]
     },
     "metadata": {
      "needs_background": "light"
     },
     "output_type": "display_data"
    }
   ],
   "source": [
    "module = \"0x7f851d11b690\"\n",
    "df = kl.df_stats\n",
    "df.loc[df.module == module,\"w\"].plot()"
   ]
  },
  {
   "cell_type": "code",
   "execution_count": 64,
   "metadata": {},
   "outputs": [
    {
     "data": {
      "text/plain": [
       "<matplotlib.axes._subplots.AxesSubplot at 0x7f84f92c2d50>"
      ]
     },
     "execution_count": 64,
     "metadata": {},
     "output_type": "execute_result"
    },
    {
     "data": {
      "image/png": "[encoded data removed]",
      "text/plain": [
       "<Figure size 432x288 with 1 Axes>"
      ]
     },
     "metadata": {
      "needs_background": "light"
     },
     "output_type": "display_data"
    }
   ],
   "source": [
    "df.dropout.plot()"
   ]
  },
  {
   "cell_type": "code",
   "execution_count": 65,
   "metadata": {},
   "outputs": [
    {
     "data": {
      "text/html": [
       "<div>\n",
       "<style scoped>\n",
       "    .dataframe tbody tr th:only-of-type {\n",
       "        vertical-align: middle;\n",
       "    }\n",
       "\n",
       "    .dataframe tbody tr th {\n",
       "        vertical-align: top;\n",
       "    }\n",
       "\n",
       "    .dataframe thead th {\n",
       "        text-align: right;\n",
       "    }\n",
       "</style>\n",
       "<table border=\"1\" class=\"dataframe\">\n",
       "  <thead>\n",
       "    <tr style=\"text-align: right;\">\n",
       "      <th></th>\n",
       "      <th>total_kl</th>\n",
       "      <th>last_loss</th>\n",
       "      <th>total_loss</th>\n",
       "    </tr>\n",
       "  </thead>\n",
       "  <tbody>\n",
       "    <tr>\n",
       "      <th>0</th>\n",
       "      <td>0.005749</td>\n",
       "      <td>14.506405</td>\n",
       "      <td>14.512154</td>\n",
       "    </tr>\n",
       "    <tr>\n",
       "      <th>1</th>\n",
       "      <td>0.009022</td>\n",
       "      <td>33.999092</td>\n",
       "      <td>34.008114</td>\n",
       "    </tr>\n",
       "    <tr>\n",
       "      <th>2</th>\n",
       "      <td>0.015114</td>\n",
       "      <td>31.497904</td>\n",
       "      <td>31.513018</td>\n",
       "    </tr>\n",
       "    <tr>\n",
       "      <th>3</th>\n",
       "      <td>0.023381</td>\n",
       "      <td>27.781738</td>\n",
       "      <td>27.805119</td>\n",
       "    </tr>\n",
       "    <tr>\n",
       "      <th>4</th>\n",
       "      <td>0.033452</td>\n",
       "      <td>25.324514</td>\n",
       "      <td>25.357967</td>\n",
       "    </tr>\n",
       "    <tr>\n",
       "      <th>...</th>\n",
       "      <td>...</td>\n",
       "      <td>...</td>\n",
       "      <td>...</td>\n",
       "    </tr>\n",
       "    <tr>\n",
       "      <th>9964</th>\n",
       "      <td>0.000000</td>\n",
       "      <td>0.007712</td>\n",
       "      <td>0.007712</td>\n",
       "    </tr>\n",
       "    <tr>\n",
       "      <th>9965</th>\n",
       "      <td>0.000000</td>\n",
       "      <td>0.011081</td>\n",
       "      <td>0.011081</td>\n",
       "    </tr>\n",
       "    <tr>\n",
       "      <th>9966</th>\n",
       "      <td>0.000000</td>\n",
       "      <td>0.009178</td>\n",
       "      <td>0.009178</td>\n",
       "    </tr>\n",
       "    <tr>\n",
       "      <th>9967</th>\n",
       "      <td>0.000000</td>\n",
       "      <td>0.007672</td>\n",
       "      <td>0.007672</td>\n",
       "    </tr>\n",
       "    <tr>\n",
       "      <th>9968</th>\n",
       "      <td>0.000000</td>\n",
       "      <td>0.007898</td>\n",
       "      <td>0.007898</td>\n",
       "    </tr>\n",
       "  </tbody>\n",
       "</table>\n",
       "<p>9969 rows × 3 columns</p>\n",
       "</div>"
      ],
      "text/plain": [
       "      total_kl  last_loss  total_loss\n",
       "0     0.005749  14.506405   14.512154\n",
       "1     0.009022  33.999092   34.008114\n",
       "2     0.015114  31.497904   31.513018\n",
       "3     0.023381  27.781738   27.805119\n",
       "4     0.033452  25.324514   25.357967\n",
       "...        ...        ...         ...\n",
       "9964  0.000000   0.007712    0.007712\n",
       "9965  0.000000   0.011081    0.011081\n",
       "9966  0.000000   0.009178    0.009178\n",
       "9967  0.000000   0.007672    0.007672\n",
       "9968  0.000000   0.007898    0.007898\n",
       "\n",
       "[9969 rows x 3 columns]"
      ]
     },
     "execution_count": 65,
     "metadata": {},
     "output_type": "execute_result"
    }
   ],
   "source": [
    "kl.df_loss"
   ]
  },
  {
   "cell_type": "code",
   "execution_count": 66,
   "metadata": {},
   "outputs": [
    {
     "data": {
      "text/plain": [
       "<matplotlib.axes._subplots.AxesSubplot at 0x7f851ace4b10>"
      ]
     },
     "execution_count": 66,
     "metadata": {},
     "output_type": "execute_result"
    },
    {
     "data": {
      "image/png": "[encoded data removed]",
      "text/plain": [
       "<Figure size 432x288 with 1 Axes>"
      ]
     },
     "metadata": {
      "needs_background": "light"
     },
     "output_type": "display_data"
    }
   ],
   "source": [
    "df = cb.df\n",
    "df = df.loc[df.module == module]\n",
    "df.m.plot()"
   ]
  },
  {
   "cell_type": "code",
   "execution_count": 67,
   "metadata": {},
   "outputs": [
    {
     "data": {
      "text/plain": [
       "<matplotlib.axes._subplots.AxesSubplot at 0x7f84f9232fd0>"
      ]
     },
     "execution_count": 67,
     "metadata": {},
     "output_type": "execute_result"
    },
    {
     "data": {
      "image/png": "[encoded data removed]",
      "text/plain": [
       "<Figure size 432x288 with 1 Axes>"
      ]
     },
     "metadata": {
      "needs_background": "light"
     },
     "output_type": "display_data"
    }
   ],
   "source": [
    "df.s.plot()"
   ]
  },
  {
   "cell_type": "code",
   "execution_count": 69,
   "metadata": {},
   "outputs": [
    {
     "data": {
      "text/plain": [
       "(array([  5.,  33.,  65., 139., 226., 184., 161.,  87.,  40.,  10.]),\n",
       " array([-38.846794, -31.71825 , -24.589705, -17.46116 , -10.332616,  -3.204071,   3.924474,  11.053019,  18.181562,\n",
       "         25.310108,  32.438652], dtype=float32),\n",
       " <a list of 10 Patch objects>)"
      ]
     },
     "execution_count": 69,
     "metadata": {},
     "output_type": "execute_result"
    },
    {
     "data": {
      "image/png": "[encoded data removed]",
      "text/plain": [
       "<Figure size 432x288 with 1 Axes>"
      ]
     },
     "metadata": {
      "needs_background": "light"
     },
     "output_type": "display_data"
    }
   ],
   "source": [
    "values = np.stack(df.loc[df.module == module,\"z\"])\n",
    "\n",
    "i = 2000\n",
    "\n",
    "row = values[i]\n",
    "plt.hist(row[row !=  0])"
   ]
  },
  {
   "cell_type": "code",
   "execution_count": 25,
   "metadata": {},
   "outputs": [],
   "source": [
    "def get_preds_sample(learn,ds_type=DatasetType.Valid,n_sample=10,reduce=None):\n",
    "  \n",
    "    preds = []\n",
    "    for i in range(n_sample):\n",
    "        pred,y = learn.get_preds(ds_type=ds_type)\n",
    "        pred = pred.view((1,) + pred.shape)\n",
    "        preds.append(pred)\n",
    "    preds = torch.cat(preds)\n",
    "    if reduce == \"mean\":\n",
    "        preds = preds.mean(dim=0)\n",
    "    return preds,y "
   ]
  },
  {
   "cell_type": "code",
   "execution_count": 26,
   "metadata": {},
   "outputs": [],
   "source": [
    "preds,y = get_preds_sample(learn)"
   ]
  },
  {
   "cell_type": "code",
   "execution_count": 73,
   "metadata": {},
   "outputs": [
    {
     "data": {
      "text/plain": [
       "tensor(0.0295)"
      ]
     },
     "execution_count": 73,
     "metadata": {},
     "output_type": "execute_result"
    }
   ],
   "source": [
    "pred,y = learn.get_preds()\n",
    "learn.loss_func(pred,y)"
   ]
  },
  {
   "cell_type": "code",
   "execution_count": 27,
   "metadata": {},
   "outputs": [
    {
     "data": {
      "text/plain": [
       "tensor(0.2843)"
      ]
     },
     "execution_count": 27,
     "metadata": {},
     "output_type": "execute_result"
    }
   ],
   "source": [
    "learn.loss_func(preds.mean(dim=0),y)"
   ]
  },
  {
   "cell_type": "code",
   "execution_count": 33,
   "metadata": {},
   "outputs": [
    {
     "data": {
      "text/plain": [
       "(array([2.6660e+03, 1.2168e+04, 1.4961e+04, 7.7410e+03, 2.7510e+03, 7.7000e+02, 2.5700e+02, 5.3000e+01, 2.0000e+01,\n",
       "        8.0000e+00]),\n",
       " array([0.053721, 0.145447, 0.237173, 0.3289  , 0.420626, 0.512352, 0.604079, 0.695805, 0.787531, 0.879258, 0.970984],\n",
       "       dtype=float32),\n",
       " <a list of 10 Patch objects>)"
      ]
     },
     "execution_count": 33,
     "metadata": {},
     "output_type": "execute_result"
    },
    {
     "data": {
      "image/png": "[encoded data removed]",
      "text/plain": [
       "<Figure size 432x288 with 1 Axes>"
      ]
     },
     "metadata": {
      "needs_background": "light"
     },
     "output_type": "display_data"
    }
   ],
   "source": [
    "plt.hist(to_np(preds.std(dim=0)).reshape(-1))"
   ]
  },
  {
   "cell_type": "code",
   "execution_count": 23,
   "metadata": {},
   "outputs": [
    {
     "data": {
      "image/png": "[encoded data removed]",
      "text/plain": [
       "<Figure size 1152x864 with 3 Axes>"
      ]
     },
     "metadata": {
      "needs_background": "light"
     },
     "output_type": "display_data"
    }
   ],
   "source": [
    "kl.plot_stats()"
   ]
  },
  {
   "cell_type": "code",
   "execution_count": 0,
   "metadata": {
    "colab": {},
    "colab_type": "code",
    "id": "cHizLyKA-i8W"
   },
   "outputs": [],
   "source": [
    "learn = tabular_learner(data, layers=[1000,500], ps=[0.05,0.05], emb_drop=0.04, \n",
    "                        y_range=y_range, metrics=exp_rmspe)\n",
    "learn.data.batch_size = 512"
   ]
  },
  {
   "cell_type": "code",
   "execution_count": 0,
   "metadata": {
    "colab": {},
    "colab_type": "code",
    "id": "twD4VO6_FlyE"
   },
   "outputs": [],
   "source": [
    "class CustomDropout(nn.Module):\n",
    "  def __init__(self,p,activate=True):\n",
    "    super().__init__()\n",
    "    self.activate = activate\n",
    "    self.p = p\n",
    "    \n",
    "  def forward(self,x):\n",
    "    return nn.functional.dropout(x,self.p,training=self.activate)"
   ]
  },
  {
   "cell_type": "code",
   "execution_count": 0,
   "metadata": {
    "colab": {},
    "colab_type": "code",
    "id": "3jczBQVNFoIL"
   },
   "outputs": [],
   "source": [
    "get_args = lambda dp : {\"p\":dp.p}\n",
    "convert_layers(learn.model,nn.Dropout,CustomDropout,get_args=get_args)"
   ]
  },
  {
   "cell_type": "code",
   "execution_count": 0,
   "metadata": {
    "colab": {
     "base_uri": "https://localhost:8080/",
     "height": 1000
    },
    "colab_type": "code",
    "id": "HXdbnFxNJJBa",
    "outputId": "ccee5f2e-84b5-48ae-e03a-1184fb50b64c"
   },
   "outputs": [
    {
     "data": {
      "text/plain": [
       "TabularModel\n",
       "======================================================================\n",
       "Layer (type)         Output Shape         Param #    Trainable \n",
       "======================================================================\n",
       "Embedding            [81]                 90,396     True      \n",
       "______________________________________________________________________\n",
       "Embedding            [5]                  40         True      \n",
       "______________________________________________________________________\n",
       "Embedding            [3]                  12         True      \n",
       "______________________________________________________________________\n",
       "Embedding            [7]                  91         True      \n",
       "______________________________________________________________________\n",
       "Embedding            [11]                 352        True      \n",
       "______________________________________________________________________\n",
       "Embedding            [3]                  9          True      \n",
       "______________________________________________________________________\n",
       "Embedding            [10]                 260        True      \n",
       "______________________________________________________________________\n",
       "Embedding            [10]                 270        True      \n",
       "______________________________________________________________________\n",
       "Embedding            [4]                  20         True      \n",
       "______________________________________________________________________\n",
       "Embedding            [3]                  12         True      \n",
       "______________________________________________________________________\n",
       "Embedding            [3]                  12         True      \n",
       "______________________________________________________________________\n",
       "Embedding            [9]                  216        True      \n",
       "______________________________________________________________________\n",
       "Embedding            [5]                  45         True      \n",
       "______________________________________________________________________\n",
       "Embedding            [7]                  91         True      \n",
       "______________________________________________________________________\n",
       "Embedding            [15]                 795        True      \n",
       "______________________________________________________________________\n",
       "Embedding            [9]                  198        True      \n",
       "______________________________________________________________________\n",
       "Embedding            [5]                  35         True      \n",
       "______________________________________________________________________\n",
       "Embedding            [5]                  35         True      \n",
       "______________________________________________________________________\n",
       "Embedding            [3]                  12         True      \n",
       "______________________________________________________________________\n",
       "Embedding            [3]                  12         True      \n",
       "______________________________________________________________________\n",
       "Embedding            [5]                  45         True      \n",
       "______________________________________________________________________\n",
       "Embedding            [5]                  45         True      \n",
       "______________________________________________________________________\n",
       "Embedding            [3]                  9          True      \n",
       "______________________________________________________________________\n",
       "Embedding            [3]                  9          True      \n",
       "______________________________________________________________________\n",
       "CustomDropout        [217]                0          False     \n",
       "______________________________________________________________________\n",
       "BatchNorm1d          [16]                 32         True      \n",
       "______________________________________________________________________\n",
       "Linear               [1000]               234,000    True      \n",
       "______________________________________________________________________\n",
       "ReLU                 [1000]               0          False     \n",
       "______________________________________________________________________\n",
       "BatchNorm1d          [1000]               2,000      True      \n",
       "______________________________________________________________________\n",
       "CustomDropout        [1000]               0          False     \n",
       "______________________________________________________________________\n",
       "Linear               [500]                500,500    True      \n",
       "______________________________________________________________________\n",
       "ReLU                 [500]                0          False     \n",
       "______________________________________________________________________\n",
       "BatchNorm1d          [500]                1,000      True      \n",
       "______________________________________________________________________\n",
       "CustomDropout        [500]                0          False     \n",
       "______________________________________________________________________\n",
       "Linear               [1]                  501        True      \n",
       "______________________________________________________________________\n",
       "\n",
       "Total params: 831,054\n",
       "Total trainable params: 831,054\n",
       "Total non-trainable params: 0\n",
       "Optimized with 'torch.optim.adam.Adam', betas=(0.9, 0.99)\n",
       "Using true weight decay as discussed in https://www.fast.ai/2018/07/02/adam-weight-decay/ \n",
       "Loss function : FlattenedLoss\n",
       "======================================================================\n",
       "Callbacks functions applied "
      ]
     },
     "execution_count": 121,
     "metadata": {
      "tags": []
     },
     "output_type": "execute_result"
    }
   ],
   "source": [
    "learn.summary()"
   ]
  },
  {
   "cell_type": "code",
   "execution_count": 0,
   "metadata": {
    "colab": {
     "base_uri": "https://localhost:8080/",
     "height": 298
    },
    "colab_type": "code",
    "id": "RM4Ir2fD-czf",
    "outputId": "2cdc58d4-f420-4971-87cd-195ba244fd19"
   },
   "outputs": [
    {
     "data": {
      "text/html": [],
      "text/plain": [
       "<IPython.core.display.HTML object>"
      ]
     },
     "metadata": {
      "tags": []
     },
     "output_type": "display_data"
    },
    {
     "name": "stdout",
     "output_type": "stream",
     "text": [
      "LR Finder is complete, type {learner_name}.recorder.plot() to see the graph.\n"
     ]
    },
    {
     "data": {
      "image/png": "[encoded data removed]",
      "text/plain": [
       "<Figure size 432x288 with 1 Axes>"
      ]
     },
     "metadata": {
      "tags": []
     },
     "output_type": "display_data"
    }
   ],
   "source": [
    "learn.lr_find()\n",
    "learn.recorder.plot()"
   ]
  },
  {
   "cell_type": "code",
   "execution_count": 0,
   "metadata": {
    "colab": {
     "base_uri": "https://localhost:8080/",
     "height": 206
    },
    "colab_type": "code",
    "id": "adQ_B2sP-DLk",
    "outputId": "1eef760a-1cdc-4971-c565-6c286f736de4"
   },
   "outputs": [
    {
     "data": {
      "text/html": [
       "<table border=\"1\" class=\"dataframe\">\n",
       "  <thead>\n",
       "    <tr style=\"text-align: left;\">\n",
       "      <th>epoch</th>\n",
       "      <th>train_loss</th>\n",
       "      <th>valid_loss</th>\n",
       "      <th>exp_rmspe</th>\n",
       "      <th>time</th>\n",
       "    </tr>\n",
       "  </thead>\n",
       "  <tbody>\n",
       "    <tr>\n",
       "      <td>0</td>\n",
       "      <td>0.082807</td>\n",
       "      <td>0.105385</td>\n",
       "      <td>0.322152</td>\n",
       "      <td>00:47</td>\n",
       "    </tr>\n",
       "    <tr>\n",
       "      <td>1</td>\n",
       "      <td>0.023083</td>\n",
       "      <td>0.024727</td>\n",
       "      <td>0.165047</td>\n",
       "      <td>00:46</td>\n",
       "    </tr>\n",
       "    <tr>\n",
       "      <td>2</td>\n",
       "      <td>0.017177</td>\n",
       "      <td>0.017222</td>\n",
       "      <td>0.147268</td>\n",
       "      <td>00:45</td>\n",
       "    </tr>\n",
       "    <tr>\n",
       "      <td>3</td>\n",
       "      <td>0.012182</td>\n",
       "      <td>0.015136</td>\n",
       "      <td>0.130101</td>\n",
       "      <td>00:45</td>\n",
       "    </tr>\n",
       "    <tr>\n",
       "      <td>4</td>\n",
       "      <td>0.010656</td>\n",
       "      <td>0.015765</td>\n",
       "      <td>0.138053</td>\n",
       "      <td>00:46</td>\n",
       "    </tr>\n",
       "  </tbody>\n",
       "</table>"
      ],
      "text/plain": [
       "<IPython.core.display.HTML object>"
      ]
     },
     "metadata": {
      "tags": []
     },
     "output_type": "display_data"
    }
   ],
   "source": [
    "learn.fit_one_cycle(5, 1e-3,)"
   ]
  },
  {
   "cell_type": "code",
   "execution_count": 0,
   "metadata": {
    "colab": {},
    "colab_type": "code",
    "id": "VKHiqDiyPQ4n"
   },
   "outputs": [],
   "source": [
    "learn.save(\"model_regular_dp\")"
   ]
  },
  {
   "cell_type": "code",
   "execution_count": 0,
   "metadata": {
    "colab": {},
    "colab_type": "code",
    "id": "NrbdLBEXFbcD"
   },
   "outputs": [],
   "source": [
    "\n",
    "x,y = learn.data.one_batch(cpu=False)"
   ]
  },
  {
   "cell_type": "code",
   "execution_count": 0,
   "metadata": {
    "colab": {},
    "colab_type": "code",
    "id": "YIQIUT7HPUaj"
   },
   "outputs": [],
   "source": [
    "pred,y = get_preds_sample(learn,n_sample=10)"
   ]
  },
  {
   "cell_type": "code",
   "execution_count": 0,
   "metadata": {
    "colab": {
     "base_uri": "https://localhost:8080/",
     "height": 1000
    },
    "colab_type": "code",
    "id": "RnZuJLArIKvb",
    "outputId": "be3eaaac-32f8-4c36-d655-3ff71a1f5399"
   },
   "outputs": [
    {
     "data": {
      "text/plain": [
       "TabularModel\n",
       "======================================================================\n",
       "Layer (type)         Output Shape         Param #    Trainable \n",
       "======================================================================\n",
       "Embedding            [81]                 90,396     True      \n",
       "______________________________________________________________________\n",
       "Embedding            [5]                  40         True      \n",
       "______________________________________________________________________\n",
       "Embedding            [3]                  12         True      \n",
       "______________________________________________________________________\n",
       "Embedding            [7]                  91         True      \n",
       "______________________________________________________________________\n",
       "Embedding            [11]                 352        True      \n",
       "______________________________________________________________________\n",
       "Embedding            [3]                  9          True      \n",
       "______________________________________________________________________\n",
       "Embedding            [10]                 260        True      \n",
       "______________________________________________________________________\n",
       "Embedding            [10]                 270        True      \n",
       "______________________________________________________________________\n",
       "Embedding            [4]                  20         True      \n",
       "______________________________________________________________________\n",
       "Embedding            [3]                  12         True      \n",
       "______________________________________________________________________\n",
       "Embedding            [3]                  12         True      \n",
       "______________________________________________________________________\n",
       "Embedding            [9]                  216        True      \n",
       "______________________________________________________________________\n",
       "Embedding            [5]                  45         True      \n",
       "______________________________________________________________________\n",
       "Embedding            [7]                  91         True      \n",
       "______________________________________________________________________\n",
       "Embedding            [15]                 795        True      \n",
       "______________________________________________________________________\n",
       "Embedding            [9]                  198        True      \n",
       "______________________________________________________________________\n",
       "Embedding            [5]                  35         True      \n",
       "______________________________________________________________________\n",
       "Embedding            [5]                  35         True      \n",
       "______________________________________________________________________\n",
       "Embedding            [3]                  12         True      \n",
       "______________________________________________________________________\n",
       "Embedding            [3]                  12         True      \n",
       "______________________________________________________________________\n",
       "Embedding            [5]                  45         True      \n",
       "______________________________________________________________________\n",
       "Embedding            [5]                  45         True      \n",
       "______________________________________________________________________\n",
       "Embedding            [3]                  9          True      \n",
       "______________________________________________________________________\n",
       "Embedding            [3]                  9          True      \n",
       "______________________________________________________________________\n",
       "CustomDropout        [217]                0          False     \n",
       "______________________________________________________________________\n",
       "BatchNorm1d          [16]                 32         True      \n",
       "______________________________________________________________________\n",
       "Linear               [1000]               234,000    True      \n",
       "______________________________________________________________________\n",
       "ReLU                 [1000]               0          False     \n",
       "______________________________________________________________________\n",
       "BatchNorm1d          [1000]               2,000      True      \n",
       "______________________________________________________________________\n",
       "CustomDropout        [1000]               0          False     \n",
       "______________________________________________________________________\n",
       "Linear               [500]                500,500    True      \n",
       "______________________________________________________________________\n",
       "ReLU                 [500]                0          False     \n",
       "______________________________________________________________________\n",
       "BatchNorm1d          [500]                1,000      True      \n",
       "______________________________________________________________________\n",
       "CustomDropout        [500]                0          False     \n",
       "______________________________________________________________________\n",
       "Linear               [1]                  501        True      \n",
       "______________________________________________________________________\n",
       "\n",
       "Total params: 831,054\n",
       "Total trainable params: 831,054\n",
       "Total non-trainable params: 0\n",
       "Optimized with 'torch.optim.adam.Adam', betas=(0.9, 0.99)\n",
       "Using true weight decay as discussed in https://www.fast.ai/2018/07/02/adam-weight-decay/ \n",
       "Loss function : FlattenedLoss\n",
       "======================================================================\n",
       "Callbacks functions applied "
      ]
     },
     "execution_count": 117,
     "metadata": {
      "tags": []
     },
     "output_type": "execute_result"
    }
   ],
   "source": [
    "learn.summary()"
   ]
  },
  {
   "cell_type": "code",
   "execution_count": 0,
   "metadata": {
    "colab": {
     "base_uri": "https://localhost:8080/",
     "height": 36
    },
    "colab_type": "code",
    "id": "80l56-4dQCAv",
    "outputId": "6e255170-6320-4107-be84-4cfe6ce5c6fe"
   },
   "outputs": [
    {
     "data": {
      "text/plain": [
       "tensor(0.1339)"
      ]
     },
     "execution_count": 116,
     "metadata": {
      "tags": []
     },
     "output_type": "execute_result"
    }
   ],
   "source": [
    "exp_rmspe(pred.mean(dim=0).squeeze(1),y)"
   ]
  },
  {
   "cell_type": "code",
   "execution_count": 0,
   "metadata": {
    "colab": {
     "base_uri": "https://localhost:8080/",
     "height": 283
    },
    "colab_type": "code",
    "id": "YmBUarJJR0HR",
    "outputId": "6255c2bc-df3a-4e29-c78c-1cf28102e090"
   },
   "outputs": [
    {
     "data": {
      "text/plain": [
       "<matplotlib.axes._subplots.AxesSubplot at 0x7fa2cd1ecbe0>"
      ]
     },
     "execution_count": 104,
     "metadata": {
      "tags": []
     },
     "output_type": "execute_result"
    },
    {
     "data": {
      "image/png": "[encoded data removed]",
      "text/plain": [
       "<Figure size 432x288 with 1 Axes>"
      ]
     },
     "metadata": {
      "tags": []
     },
     "output_type": "display_data"
    }
   ],
   "source": [
    "df = pd.DataFrame(cb.stats)\n",
    "df.s.plot()"
   ]
  },
  {
   "cell_type": "code",
   "execution_count": 0,
   "metadata": {
    "colab": {
     "base_uri": "https://localhost:8080/",
     "height": 35
    },
    "colab_type": "code",
    "id": "2TRWKgADSJOd",
    "outputId": "1e11b931-d209-4011-8c15-543b7413ca17"
   },
   "outputs": [
    {
     "data": {
      "text/plain": [
       "array(['0x7fa2e6b2a358', '0x7fa2e2d2ec18'], dtype=object)"
      ]
     },
     "execution_count": 107,
     "metadata": {
      "tags": []
     },
     "output_type": "execute_result"
    }
   ],
   "source": [
    "df.module.unique()"
   ]
  },
  {
   "cell_type": "code",
   "execution_count": 0,
   "metadata": {
    "colab": {
     "base_uri": "https://localhost:8080/",
     "height": 338
    },
    "colab_type": "code",
    "id": "qGSWVLoXSBLa",
    "outputId": "09e00b18-45cd-4a01-b42e-0880ccd2bf4f"
   },
   "outputs": [
    {
     "data": {
      "text/plain": [
       "(array([ 2.,  2., 21., 34., 45., 61., 38., 30., 14.,  7.]),\n",
       " array([-1.412846, -1.116899, -0.820951, -0.525004, -0.229057,  0.06689 ,  0.362837,  0.658785,  0.954732,  1.250679,\n",
       "         1.546626], dtype=float32),\n",
       " <a list of 10 Patch objects>)"
      ]
     },
     "execution_count": 117,
     "metadata": {
      "tags": []
     },
     "output_type": "execute_result"
    },
    {
     "data": {
      "image/png": "[encoded data removed]",
      "text/plain": [
       "<Figure size 432x288 with 1 Axes>"
      ]
     },
     "metadata": {
      "tags": []
     },
     "output_type": "display_data"
    }
   ],
   "source": [
    "values = np.stack(df.loc[df.module == \"0x7fa2e2d2ec18\",\"z\"])\n",
    "\n",
    "i = \n",
    "\n",
    "row = values[i]\n",
    "plt.hist(row[row !=  0])"
   ]
  },
  {
   "cell_type": "code",
   "execution_count": 0,
   "metadata": {
    "colab": {
     "base_uri": "https://localhost:8080/",
     "height": 35
    },
    "colab_type": "code",
    "id": "IJH8eltUTDIx",
    "outputId": "4411eea6-9050-457c-95b0-ffa684b93799"
   },
   "outputs": [
    {
     "data": {
      "text/plain": [
       "array(['0x7fa2e6b2a358', '0x7fa2e2d2ec18'], dtype=object)"
      ]
     },
     "execution_count": 122,
     "metadata": {
      "tags": []
     },
     "output_type": "execute_result"
    }
   ],
   "source": [
    "df.module.unique()"
   ]
  },
  {
   "cell_type": "code",
   "execution_count": 0,
   "metadata": {
    "colab": {
     "base_uri": "https://localhost:8080/",
     "height": 237
    },
    "colab_type": "code",
    "id": "REHbFPBaTYcI",
    "outputId": "58aad681-6129-4327-bdd4-ae87eead9d4a"
   },
   "outputs": [
    {
     "data": {
      "text/plain": [
       "0        0.001430\n",
       "1        0.000333\n",
       "2        0.001430\n",
       "3        0.000333\n",
       "4        0.001430\n",
       "           ...   \n",
       "16485    0.000333\n",
       "16486    0.001430\n",
       "16487    0.000333\n",
       "16488    0.001430\n",
       "16489    0.000333\n",
       "Name: w, Length: 16490, dtype: float64"
      ]
     },
     "execution_count": 127,
     "metadata": {
      "tags": []
     },
     "output_type": "execute_result"
    }
   ],
   "source": [
    "df.w"
   ]
  },
  {
   "cell_type": "code",
   "execution_count": 0,
   "metadata": {
    "colab": {
     "base_uri": "https://localhost:8080/",
     "height": 283
    },
    "colab_type": "code",
    "id": "knJPBpzDS4o9",
    "outputId": "b560707e-0b19-41d2-ab76-828e76abe9ea"
   },
   "outputs": [
    {
     "data": {
      "text/plain": [
       "<matplotlib.axes._subplots.AxesSubplot at 0x7fa2e68b2198>"
      ]
     },
     "execution_count": 124,
     "metadata": {
      "tags": []
     },
     "output_type": "execute_result"
    },
    {
     "data": {
      "image/png": "[encoded data removed]",
      "text/plain": [
       "<Figure size 432x288 with 1 Axes>"
      ]
     },
     "metadata": {
      "tags": []
     },
     "output_type": "display_data"
    }
   ],
   "source": [
    "df = pd.DataFrame(kl.stats)\n",
    "df.loc[df.module == \"0x7fa2e2d2ec18\",\"dropout\"].plot()"
   ]
  },
  {
   "cell_type": "code",
   "execution_count": 0,
   "metadata": {
    "colab": {
     "base_uri": "https://localhost:8080/",
     "height": 284
    },
    "colab_type": "code",
    "id": "vr39wY0rG1Bc",
    "outputId": "f8775470-5d3a-4623-8a4c-77986b031fab"
   },
   "outputs": [
    {
     "data": {
      "text/plain": [
       "<matplotlib.axes._subplots.AxesSubplot at 0x7fa2cd115400>"
      ]
     },
     "execution_count": 120,
     "metadata": {
      "tags": []
     },
     "output_type": "execute_result"
    },
    {
     "data": {
      "image/png": "[encoded data removed]",
      "text/plain": [
       "<Figure size 432x288 with 1 Axes>"
      ]
     },
     "metadata": {
      "tags": []
     },
     "output_type": "display_data"
    }
   ],
   "source": [
    "df = pd.DataFrame(kl.loss)\n",
    "df.last_loss.plot()"
   ]
  },
  {
   "cell_type": "code",
   "execution_count": 0,
   "metadata": {
    "colab": {},
    "colab_type": "code",
    "id": "OgxlKAQmG_Bk"
   },
   "outputs": [],
   "source": []
  }
 ],
 "metadata": {
  "accelerator": "GPU",
  "colab": {
   "collapsed_sections": [],
   "include_colab_link": true,
   "name": "AutoDropout",
   "provenance": [],
   "toc_visible": true
  },
  "kernelspec": {
   "display_name": "Python 3",
   "language": "python",
   "name": "python3"
  },
  "language_info": {
   "codemirror_mode": {
    "name": "ipython",
    "version": 3
   },
   "file_extension": ".py",
   "mimetype": "text/x-python",
   "name": "python",
   "nbconvert_exporter": "python",
   "pygments_lexer": "ipython3",
   "version": "3.7.5"
  }
 },
 "nbformat": 4,
 "nbformat_minor": 1
}
